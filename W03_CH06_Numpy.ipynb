{
 "cells": [
  {
   "cell_type": "markdown",
   "id": "311e06bf-a020-457f-8721-81b7c754ca40",
   "metadata": {},
   "source": [
    "# 06장 Numpy\n",
    "---\n",
    "- Dates : Aug 27, 2024  \n",
    "- Author : JaeEun Yoo\n",
    "---"
   ]
  },
  {
   "cell_type": "markdown",
   "id": "e55e871c-ef32-4536-9117-9b83de3fb495",
   "metadata": {},
   "source": [
    "## Numpy란?\n",
    "- Numerical Python의 줄임말로, NumPy는 파이썬의 고성능 수치계산을 위한 라이브러리\n",
    "- 여러 형태의 벡터 및 행렬연산과 나아가 여러 수학적인 기능들을 빠르고 간편하게 사용할 수 있는 기능들을 제공\n",
    "\n",
    "**NumPy 공식 사이트에 소개된 NumPy의 장점!**\n",
    "\n",
    "* POWERFUL N-DIMENSIONAL ARRAY\n",
    "   * NumPy에서 배열 및 벡터를 표현하는 핵심 구조인 ndarray를 사용하여 빠르고 메모리를 효율적으로 사용할 수 있음\n",
    "* NUMERICAL COMPUTING TOOLS\n",
    "   * 반복문을 작성할 필요 없이 **전체 데이터 배열에 대해 빠른 연산을 제공**하는 다양한 표준 수학 함수를 제공\n",
    "* PERFORMANT\n",
    "   * 최적화하여 컴파일된 C/C++ 코드를 사용하여 빠른 연산 가능"
   ]
  },
  {
   "cell_type": "markdown",
   "id": "7e7f3fe8-d1cf-43c3-858b-b7ede93f6527",
   "metadata": {},
   "source": [
    "## Numpy Array\n",
    "행렬 및 벡터 연산을 위해선 **다차원 array**를 사용\n",
    "\n",
    "* **array(배열)**\n",
    "   * 번호와 번호에 대응하는 데이터들로 이루어진 자료 구조.\n",
    "   * 일반적으로 배열에는 같은 종류의 데이터들이 순차적으로 저장\n",
    "   * 값의 번호가 곧 배열의 시작점으로부터 값이 저장되어 있는 상대적인 위치\n",
    " \n",
    "     \n",
    "NumPy에선 이러한 다차원 array형태인 핵심적인 객체를 ndarray라고 부르며,  \n",
    "아래와 같은 속성들을 가짐.  \n",
    "\n",
    "- ndarray.ndim\n",
    "- ndarray.shape\n",
    "- ndarray.size\n",
    "- ndarray.dtype\n",
    "- ndarray.itemsize\n",
    "- ndarray.data\n"
   ]
  },
  {
   "cell_type": "code",
   "execution_count": null,
   "id": "5b84bfce-4481-404f-a10f-64143f8a4bef",
   "metadata": {},
   "outputs": [],
   "source": [
    "import numpy as np"
   ]
  },
  {
   "cell_type": "markdown",
   "id": "fb039b01-4ff8-45b7-8b50-240c8bb2371a",
   "metadata": {},
   "source": [
    "---\n",
    "## Numpy 다루기\n",
    "### 기본 배열 만들기"
   ]
  },
  {
   "cell_type": "code",
   "execution_count": null,
   "id": "a9327fcc-0597-4d8e-95d2-7439c4bb84b3",
   "metadata": {},
   "outputs": [],
   "source": [
    "a = np.array([1, 2, 3])"
   ]
  },
  {
   "cell_type": "markdown",
   "id": "c4dbfc0f-5c92-47f5-b2f4-b2f9e0645e5f",
   "metadata": {},
   "source": [
    "![numpy array 01](./figures/numpy_01.png)"
   ]
  },
  {
   "cell_type": "code",
   "execution_count": null,
   "id": "8f1f7922-05b1-4b6d-a5b8-64fa66ab80f1",
   "metadata": {},
   "outputs": [],
   "source": [
    "a.shape"
   ]
  },
  {
   "cell_type": "code",
   "execution_count": null,
   "id": "3f841839-6e14-4bc4-a43f-9307425ff119",
   "metadata": {},
   "outputs": [],
   "source": [
    "len(a)"
   ]
  },
  {
   "cell_type": "code",
   "execution_count": null,
   "id": "9d5c2e33-7a49-4e96-96a2-71b9e6e0b899",
   "metadata": {},
   "outputs": [],
   "source": [
    "a = [[1,2,3], [4,5,6]]\n",
    "b = np.array(a) "
   ]
  },
  {
   "cell_type": "code",
   "execution_count": null,
   "id": "f17d792b-add1-40a3-91b7-cf82a1da2f88",
   "metadata": {},
   "outputs": [],
   "source": [
    "b"
   ]
  },
  {
   "cell_type": "markdown",
   "id": "652019e0-4b5f-4835-96c1-655e2dba6a8e",
   "metadata": {},
   "source": [
    "### built-in method를 활용한 다양한 배열 만들기"
   ]
  },
  {
   "cell_type": "code",
   "execution_count": null,
   "id": "55846387-45f8-4709-b93a-bb6c9a864c54",
   "metadata": {},
   "outputs": [],
   "source": [
    "# 원소가 0으로 구성된 배열\n",
    "np.zeros(2)"
   ]
  },
  {
   "cell_type": "code",
   "execution_count": null,
   "id": "5acf5be1-367c-4a80-b2e1-969ab05cb8c2",
   "metadata": {},
   "outputs": [],
   "source": [
    "# 원소가 1로 구성된 배열\n",
    "np.ones(3)"
   ]
  },
  {
   "cell_type": "code",
   "execution_count": null,
   "id": "23f2fec1-cf62-4a3d-a9c7-feb86bac6da3",
   "metadata": {},
   "outputs": [],
   "source": [
    "# 원소가 0부터 입력된 길이까지 1씩 증가하는 정수로 구성된 배열\n",
    "np.arange(4)"
   ]
  },
  {
   "cell_type": "code",
   "execution_count": null,
   "id": "ce402ee9-9314-49bc-9c1d-fc48f4a99592",
   "metadata": {},
   "outputs": [],
   "source": [
    "# x번째 인자 ~ y번째 인자까지 범위 내에서 z번째 인자 갯수만큼 선형 간격(일정한 간격)을 가진 숫자들을 배열로 반환\n",
    "np.linspace(0, 10, num=5)"
   ]
  },
  {
   "cell_type": "code",
   "execution_count": null,
   "id": "194a72fd-3e9a-47be-bc4f-0b6534d7a11b",
   "metadata": {},
   "outputs": [],
   "source": [
    "c = np.random.randn(2, 3)"
   ]
  },
  {
   "cell_type": "code",
   "execution_count": null,
   "id": "0be6e4f4-8a57-4e1a-ba95-eca12fa87886",
   "metadata": {},
   "outputs": [],
   "source": [
    "c"
   ]
  },
  {
   "cell_type": "markdown",
   "id": "1515073f-3b9a-40fc-9641-0d7b5d7fc205",
   "metadata": {},
   "source": [
    "![numpy array 02](./figures/numpy_02.png)"
   ]
  },
  {
   "cell_type": "markdown",
   "id": "3de5266a-aeb7-4559-b43f-20c5f96f77fc",
   "metadata": {},
   "source": [
    "---\n",
    "## Numpy의 기본 연산\n",
    "- 배열의 기본 산술연산은 element-wise하게 적용"
   ]
  },
  {
   "cell_type": "code",
   "execution_count": null,
   "id": "af3ff6dd-359f-4ac6-aa21-c468bdb835cf",
   "metadata": {},
   "outputs": [],
   "source": [
    "a = np.array([1, 2, 3])\n",
    "b = np.array([10, 20, 30])\n",
    "a+b"
   ]
  },
  {
   "cell_type": "code",
   "execution_count": null,
   "id": "9d9d02bc-2bc9-4bbc-b2ac-777014974f67",
   "metadata": {},
   "outputs": [],
   "source": [
    "2*(a+b)"
   ]
  },
  {
   "cell_type": "code",
   "execution_count": null,
   "id": "57104bac-9313-481e-b5d6-f007fa7015d6",
   "metadata": {},
   "outputs": [],
   "source": [
    "b-a"
   ]
  },
  {
   "cell_type": "code",
   "execution_count": null,
   "id": "8d6ca995-a5de-4de9-80cd-f16b8b2b8d1c",
   "metadata": {},
   "outputs": [],
   "source": [
    "A = np.array([[1, 1],\n",
    "              [0, 1]])\n",
    "B = np.array([[2, 0],\n",
    "              [3, 4]])\n",
    "A*B"
   ]
  },
  {
   "cell_type": "code",
   "execution_count": null,
   "id": "eeeb8b6c-867b-4264-95da-e76271d8321f",
   "metadata": {},
   "outputs": [],
   "source": [
    "A/B"
   ]
  },
  {
   "cell_type": "code",
   "execution_count": null,
   "id": "ccabdc4e-e4e2-40c9-aba2-1feba742585c",
   "metadata": {},
   "outputs": [],
   "source": [
    "A-b"
   ]
  },
  {
   "cell_type": "code",
   "execution_count": null,
   "id": "614cb1d2-dc53-4b5f-86ee-981f46f5cce8",
   "metadata": {},
   "outputs": [],
   "source": [
    "a*B"
   ]
  },
  {
   "cell_type": "markdown",
   "id": "4ce78f09-bada-4863-86d5-96f01094f87a",
   "metadata": {},
   "source": [
    "## 브로드캐스팅 (BroadCasting)\n",
    "- 넘파이에서 서로 다른 모양(shape)의 배열도 일정 조건을 만족하면 연산할 수 있음\n",
    "\n",
    "\n",
    "### 브로드캐스팅이 가능한 조건\n",
    "1. **원소가 하나인 배열**은 어떤 배열이나 브로드캐스팅이 가능\n",
    "\n",
    "2. 하나의 배열이 1차원 배열인 경우, 브로드캐스팅이 가능  \n",
    "2-1. 두 배열이 모두 2차원 배열이면, 브로드캐스팅이 불가  \n",
    "\n"
   ]
  },
  {
   "cell_type": "code",
   "execution_count": null,
   "id": "f6dbcfe2-b1cc-4ff8-a578-88ffa3aab8c7",
   "metadata": {},
   "outputs": [],
   "source": [
    "arr1.shape = (3, )  \n",
    "arr2.shape = (3, 3)  \n",
    "np.add(arr1, arr2) # 가능"
   ]
  },
  {
   "cell_type": "markdown",
   "id": "214203a1-6b26-4a15-a0b8-18097b6084b8",
   "metadata": {},
   "source": [
    "3. 차원의 짝이 맞을때 브로드캐스팅이 가능"
   ]
  },
  {
   "cell_type": "code",
   "execution_count": null,
   "id": "402e8eb1-f0ca-494a-9fbf-28c0d039a29b",
   "metadata": {},
   "outputs": [],
   "source": [
    "arr1.shape = (4, 1)\n",
    "arr2.shape = (1, 4)\n",
    "np.add(arr1, arr2) # 가능"
   ]
  },
  {
   "cell_type": "code",
   "execution_count": null,
   "id": "826073c9-20a0-484a-bbd1-28b4cbc6f057",
   "metadata": {},
   "outputs": [],
   "source": [
    "arr1 = np.array([[0, 0, 0], \n",
    "                 [1, 1, 1],\n",
    "                 [2, 2, 2]])\n",
    "                 \n",
    "arr2 = np.array([5, 6, 7])\n",
    "\n",
    "arr1 + arr2"
   ]
  },
  {
   "cell_type": "markdown",
   "id": "d5f2168a-43d3-4c08-bed1-8261423ef716",
   "metadata": {},
   "source": [
    "![numpy array 02](./figures/numpy_03.png)"
   ]
  },
  {
   "cell_type": "code",
   "execution_count": null,
   "id": "0555cdd3-84d0-4c5d-bd0b-05cb650d820e",
   "metadata": {},
   "outputs": [],
   "source": [
    "arr3 = np.array([1, 1, 1])\n",
    "\n",
    "arr4 = np.array([[0],\n",
    "                 [1],\n",
    "                 [2]])\n",
    "\n",
    "arr3 + arr4"
   ]
  },
  {
   "cell_type": "markdown",
   "id": "d0b88fbb-7d9c-4e31-9669-b87141c09f29",
   "metadata": {},
   "source": [
    "![numpy array 02](./figures/numpy_04.png)"
   ]
  },
  {
   "cell_type": "markdown",
   "id": "dbd96a2b-e5d6-498a-b05f-c21ed94146ec",
   "metadata": {},
   "source": [
    "---\n",
    "## Numpy의 인덱싱 / 슬라이싱 (Indexing / Slicing)\n",
    "### 1차원 배열에서의 접근\n",
    "- **1차원 배열**의 경우 기존 Python의 리스트와 동일한 방식으로 인덱싱, 슬라이싱이 가능함"
   ]
  },
  {
   "cell_type": "markdown",
   "id": "238f0443-f500-4b9a-b25e-6a86d6f51c72",
   "metadata": {},
   "source": [
    "![numpy array 02](./figures/numpy_05.png)"
   ]
  },
  {
   "cell_type": "markdown",
   "id": "f5c19399-001f-4536-b385-f44a27ef906b",
   "metadata": {},
   "source": [
    "### 인덱싱 (Indexing)"
   ]
  },
  {
   "cell_type": "code",
   "execution_count": null,
   "id": "281bde0b-4644-41df-a147-aa6e87987aad",
   "metadata": {},
   "outputs": [],
   "source": [
    "arr = np.arange(10)\n",
    "arr"
   ]
  },
  {
   "cell_type": "code",
   "execution_count": null,
   "id": "18d24448-d5e7-4e8f-9d08-8c4002cbc330",
   "metadata": {},
   "outputs": [],
   "source": [
    "arr[5]"
   ]
  },
  {
   "cell_type": "code",
   "execution_count": null,
   "id": "70db7592-7f67-47fe-9101-901d6b1bbfe9",
   "metadata": {},
   "outputs": [],
   "source": [
    "arr[5:8]"
   ]
  },
  {
   "cell_type": "code",
   "execution_count": null,
   "id": "1863619f-5ab4-4378-bc96-d7f8768d3308",
   "metadata": {},
   "outputs": [],
   "source": [
    "arr[5:8] = 10\n",
    "arr"
   ]
  },
  {
   "cell_type": "markdown",
   "id": "3778ecd0-409c-4847-9b79-27e640435498",
   "metadata": {},
   "source": [
    "### 고차원 배열에서의 접근\n",
    "- 2차원 배열 생성 시, 각 인덱스에 해당하는 원소는 스칼라가 아니고 **1차원 벡터**가 됨"
   ]
  },
  {
   "cell_type": "code",
   "execution_count": null,
   "id": "599da9ba-07a1-405c-a210-d6d9e2bf86c7",
   "metadata": {},
   "outputs": [],
   "source": [
    "arr2d = np.array([[1, 2, 3], [4, 5, 6], [7, 8, 9]])\n",
    "arr2d[0]"
   ]
  },
  {
   "cell_type": "code",
   "execution_count": null,
   "id": "b03826ea-1b13-40cb-874f-b65912fb300c",
   "metadata": {},
   "outputs": [],
   "source": [
    "arr2d[0][1]"
   ]
  },
  {
   "cell_type": "code",
   "execution_count": null,
   "id": "507983ee-8dfb-48d0-b4c7-2f78b2a46ce8",
   "metadata": {},
   "outputs": [],
   "source": [
    "arr2d[0, 1]"
   ]
  },
  {
   "cell_type": "markdown",
   "id": "e6ee4b54-2a37-423b-84d0-a3c6ba16368e",
   "metadata": {},
   "source": [
    "- 2차원 배열 인덱스에서 첫번째 성분은 행, 두번째 성분은 열을 의미"
   ]
  },
  {
   "cell_type": "code",
   "execution_count": null,
   "id": "9531f46d-047b-4334-8ed4-8d9381a8b565",
   "metadata": {},
   "outputs": [],
   "source": [
    "arr3d = np.array([[[1, 2, 3], [4, 5, 6]], [[7, 8, 9], [10, 11, 12]]])\n",
    "arr3d"
   ]
  },
  {
   "cell_type": "code",
   "execution_count": null,
   "id": "258aef09-b562-4c8c-b0c1-71ff01f37ed3",
   "metadata": {},
   "outputs": [],
   "source": [
    "arr3d[0]"
   ]
  },
  {
   "cell_type": "code",
   "execution_count": null,
   "id": "69889d89-69b7-432f-9d7d-1b4cf2c170da",
   "metadata": {},
   "outputs": [],
   "source": [
    "arr3d[0, 1]"
   ]
  },
  {
   "cell_type": "markdown",
   "id": "78fe89fb-645b-46c7-adb1-e5883589009c",
   "metadata": {},
   "source": [
    "### 슬라이싱 (Slicing)"
   ]
  },
  {
   "cell_type": "code",
   "execution_count": null,
   "id": "52fbd937-4cac-4765-9c4d-0c7366660ae4",
   "metadata": {},
   "outputs": [],
   "source": [
    "lst = [\n",
    "    [1, 2, 3],\n",
    "    [4, 5, 6],\n",
    "    [7, 8, 9]\n",
    "]\n",
    "arr = np.array(lst)"
   ]
  },
  {
   "cell_type": "code",
   "execution_count": null,
   "id": "11002f53-94c4-4e71-84e8-3bc0feef28e0",
   "metadata": {},
   "outputs": [],
   "source": [
    "arr"
   ]
  },
  {
   "cell_type": "code",
   "execution_count": null,
   "id": "d1d0f065-0cc6-410c-b81b-a04a0c1954d4",
   "metadata": {},
   "outputs": [],
   "source": [
    "a = arr[0:2, 0:2]"
   ]
  },
  {
   "cell_type": "code",
   "execution_count": null,
   "id": "39e99b5a-3ede-4cf7-a337-74ad6881eded",
   "metadata": {},
   "outputs": [],
   "source": [
    "a"
   ]
  },
  {
   "cell_type": "code",
   "execution_count": null,
   "id": "9bf7f715-bd47-42c2-bd55-1554e831ae76",
   "metadata": {},
   "outputs": [],
   "source": [
    "arr[1:, 1:]"
   ]
  },
  {
   "cell_type": "markdown",
   "id": "048911c3-4d3d-418d-83c8-911f89b2206a",
   "metadata": {},
   "source": [
    "![numpy array 02](./figures/numpy_06.png)"
   ]
  },
  {
   "cell_type": "markdown",
   "id": "380994b8-bd7b-4e03-8e84-05399e5b0404",
   "metadata": {},
   "source": [
    "### 논리 인덱싱\n",
    "- 비교 연산자를 활용한 논리 인덱싱"
   ]
  },
  {
   "cell_type": "code",
   "execution_count": null,
   "id": "aa39c092-31b0-4b92-b238-09b2b1e264ad",
   "metadata": {},
   "outputs": [],
   "source": [
    "names = np.array(['Bob', 'Joe', 'Will', 'Bob', 'Will', 'Joe', 'Joe'])"
   ]
  },
  {
   "cell_type": "code",
   "execution_count": null,
   "id": "46580606-4bd4-48ff-8e28-da2fb45a55b2",
   "metadata": {},
   "outputs": [],
   "source": [
    "names == 'Bob'"
   ]
  },
  {
   "cell_type": "code",
   "execution_count": null,
   "id": "e2b86b94-8a4f-41bc-957a-09263dfa1e1b",
   "metadata": {},
   "outputs": [],
   "source": [
    "names != 'Bob'"
   ]
  },
  {
   "cell_type": "code",
   "execution_count": null,
   "id": "d0910b21-36ca-4259-a080-69e8896c8449",
   "metadata": {},
   "outputs": [],
   "source": [
    "mask = (names == 'Bob') | (names == 'Will')\n",
    "mask"
   ]
  },
  {
   "cell_type": "code",
   "execution_count": null,
   "id": "42d414d2-93b1-4fa6-a353-977df9e67fe9",
   "metadata": {},
   "outputs": [],
   "source": [
    "mask = (names == 'Bob') & (names == 'Joe')\n",
    "mask"
   ]
  },
  {
   "cell_type": "markdown",
   "id": "eface7b2-fb6f-4caf-95d2-7fe4110f4de4",
   "metadata": {},
   "source": [
    "### 배열에서 특정 조건을 충족하는 값 선택하기"
   ]
  },
  {
   "cell_type": "code",
   "execution_count": null,
   "id": "c62a9a17-93be-4d61-83fa-fcfbc11fed67",
   "metadata": {},
   "outputs": [],
   "source": [
    "a = np.array([[1,2,3,4], [5,6,7,8], [9,10,11,12]])"
   ]
  },
  {
   "cell_type": "code",
   "execution_count": null,
   "id": "1f1166e0-5726-4fda-858c-93d0e9b0f993",
   "metadata": {},
   "outputs": [],
   "source": [
    "a"
   ]
  },
  {
   "cell_type": "code",
   "execution_count": null,
   "id": "2ec4b8f7-c429-44b2-b219-7a382f6cbd37",
   "metadata": {},
   "outputs": [],
   "source": [
    "a[a>5]"
   ]
  },
  {
   "cell_type": "markdown",
   "id": "e79a2f2a-3b5d-498a-afa8-8bfbc0ad17da",
   "metadata": {},
   "source": [
    "## 예제 풀어보기 (Exercise)"
   ]
  },
  {
   "cell_type": "markdown",
   "id": "efe19165-4390-4694-af5a-0c1a5e9bc7ad",
   "metadata": {},
   "source": [
    "## <Question 01>"
   ]
  },
  {
   "cell_type": "markdown",
   "id": "cfe05d39-83e8-4dce-bb1e-a5121e6b1f61",
   "metadata": {},
   "source": [
    "> **0으로 채워진 길이가 10인 1차원 배열을 만들되, 7번째 인덱스는 1로 구성하세요.** \n",
    "\n",
    "a = array([0, 0, 0, 0, 0, 0, 0, 1, 0, 0])\n"
   ]
  },
  {
   "cell_type": "code",
   "execution_count": null,
   "id": "dd413531-e2f1-4456-aeca-bd0cc484396c",
   "metadata": {},
   "outputs": [],
   "source": []
  },
  {
   "cell_type": "markdown",
   "id": "080e2554-a52f-4d09-8bd4-cced1b9e0e35",
   "metadata": {},
   "source": [
    "## <Question 02>"
   ]
  },
  {
   "cell_type": "markdown",
   "id": "ff397dbb-7702-4045-8ecf-256bc356e6d7",
   "metadata": {},
   "source": [
    "> **20부터 40까지 구성된 1차원 배열을 생성하세요.** \n",
    "\n",
    "b = array([20, 21, 22, ..., 39, 40])\n",
    "  \n",
    "  \n",
    "  \n"
   ]
  },
  {
   "cell_type": "code",
   "execution_count": null,
   "id": "8feebe3f-2522-4753-91f2-4cd2de3d3b36",
   "metadata": {},
   "outputs": [],
   "source": []
  },
  {
   "cell_type": "markdown",
   "id": "30ea5d75-3239-430c-b792-a6ad80b05746",
   "metadata": {},
   "source": [
    "## <Question 03>"
   ]
  },
  {
   "cell_type": "markdown",
   "id": "8c413cd2-9b8e-460d-bf60-d942abde7949",
   "metadata": {},
   "source": [
    "> **무작위 원소를 가진 3x3x3의 array를 생성하세요.**\n",
    "\n",
    "c = array(\n",
    "\n",
    "    [[[0.92842722, 0.92574424, 0.07725618],  \n",
    "        [0.75726719, 0.75362092, 0.22836732],  \n",
    "        [0.12551308, 0.9106576 , 0.17518133]],  \n",
    "   \n",
    "       [[0.06029213, 0.99286814, 0.80926844],  \n",
    "        [0.42243376, 0.95335137, 0.18474632],  \n",
    "        [0.04488715, 0.89688706, 0.37775391]],  \n",
    "   \n",
    "       [[0.94077574, 0.91818125, 0.35818829],  \n",
    "        [0.76793943, 0.12810186, 0.99508023],  \n",
    "        [0.4833759 , 0.59272653, 0.01835418]]])  \n",
    "\n",
    "  \n",
    "  \n",
    "  \n"
   ]
  },
  {
   "cell_type": "markdown",
   "id": "89a334b5-3d3c-4540-bda1-73bb8ad14f8a",
   "metadata": {},
   "source": [
    "---\n",
    "## Numpy의 속성 알아보기\n",
    "### Numpy 속성 요약"
   ]
  },
  {
   "cell_type": "markdown",
   "id": "51008c90-0a7c-42b9-97be-4795f64d1eb0",
   "metadata": {},
   "source": [
    "![numpy array 02](./figures/numpy_07.png)"
   ]
  },
  {
   "cell_type": "code",
   "execution_count": null,
   "id": "a86287a2-80d6-4d49-b7d3-644f4be4a1c5",
   "metadata": {},
   "outputs": [],
   "source": [
    "arr = np.array([[1,2,3,4],\n",
    "                [5,6,7,8],\n",
    "                [9,10,11,12]])"
   ]
  },
  {
   "cell_type": "code",
   "execution_count": null,
   "id": "d15ef0b2-3711-4a7f-84c1-6f68fa99af0d",
   "metadata": {},
   "outputs": [],
   "source": [
    "arr"
   ]
  },
  {
   "cell_type": "markdown",
   "id": "642ec299-5d3d-4a60-b7ad-f18de6a5d80d",
   "metadata": {},
   "source": [
    "### 배열의 차원의 개수 : ndarray.ndim"
   ]
  },
  {
   "cell_type": "code",
   "execution_count": null,
   "id": "7cc7e314-a117-4a80-988f-22445d0e43da",
   "metadata": {},
   "outputs": [],
   "source": [
    "arr.ndim"
   ]
  },
  {
   "cell_type": "markdown",
   "id": "b70a686c-1ea4-4f9c-851d-ed4eb2c55278",
   "metadata": {},
   "source": [
    "### 배열의 모양 (각 차원별 배열의 크기) : ndarray.shape (매우 중요)"
   ]
  },
  {
   "cell_type": "code",
   "execution_count": null,
   "id": "3f775c36-ea3c-45c8-b800-97d8bc17b7ee",
   "metadata": {},
   "outputs": [],
   "source": [
    "arr.shape"
   ]
  },
  {
   "cell_type": "markdown",
   "id": "d96a34dc-42a3-4bd4-8542-c0f978289f7e",
   "metadata": {},
   "source": [
    "### 배열의 모든 원소의 개수 : ndarray.size"
   ]
  },
  {
   "cell_type": "code",
   "execution_count": null,
   "id": "a3179e78-88c8-4f53-ab8f-231d38b202a2",
   "metadata": {},
   "outputs": [],
   "source": [
    "arr.size"
   ]
  },
  {
   "cell_type": "markdown",
   "id": "74e23cba-e9be-4acf-b071-d8869fefa7f8",
   "metadata": {},
   "source": [
    "### 배열에 저장된 원소의 데이터 타입 : ndarray.dtype"
   ]
  },
  {
   "cell_type": "code",
   "execution_count": null,
   "id": "7f2a3d19-c4f5-4a9a-be96-d372d3e84378",
   "metadata": {},
   "outputs": [],
   "source": [
    "arr.dtype"
   ]
  },
  {
   "cell_type": "markdown",
   "id": "e197df8e-105e-4334-9c45-6b52c7262d9f",
   "metadata": {},
   "source": [
    "### 각 원소의 크기 (byte) : ndarray.itemsize"
   ]
  },
  {
   "cell_type": "code",
   "execution_count": null,
   "id": "845a299f-9fc5-4f94-b17a-981bf65c7b5b",
   "metadata": {},
   "outputs": [],
   "source": [
    "arr.itemsize"
   ]
  },
  {
   "cell_type": "markdown",
   "id": "1d981582-9309-4b24-bc35-c366dea22f13",
   "metadata": {},
   "source": [
    "---\n",
    "## Numpy의 내장 함수 (Built-in method)\n",
    "### 자주 사용되는 내장함수"
   ]
  },
  {
   "cell_type": "code",
   "execution_count": null,
   "id": "5e1d0351-efb7-41fa-aad0-6d94eb8ec881",
   "metadata": {},
   "outputs": [],
   "source": [
    "arr1 = np.array([[ 1,  2,  3,  4],\n",
    "       [ 5,  6,  7,  8],\n",
    "       [ 9, 10, 11, 12]])"
   ]
  },
  {
   "cell_type": "code",
   "execution_count": null,
   "id": "2b3f256a-6021-4771-89cb-91114941b84c",
   "metadata": {},
   "outputs": [],
   "source": [
    "arr1"
   ]
  },
  {
   "cell_type": "code",
   "execution_count": null,
   "id": "3c1dc91a-3cd3-4ab1-912a-ff3951831474",
   "metadata": {},
   "outputs": [],
   "source": [
    "arr1.max()"
   ]
  },
  {
   "cell_type": "code",
   "execution_count": null,
   "id": "9ae93886-1860-4521-86f7-4192c49dbaf4",
   "metadata": {},
   "outputs": [],
   "source": [
    "arr1.min()"
   ]
  },
  {
   "cell_type": "code",
   "execution_count": null,
   "id": "eebf122e-ee25-4ff8-b9da-a3775566df64",
   "metadata": {},
   "outputs": [],
   "source": [
    "arr1.sum()"
   ]
  },
  {
   "cell_type": "code",
   "execution_count": null,
   "id": "cdf395bb-2998-4997-80f9-513d3e8d9659",
   "metadata": {},
   "outputs": [],
   "source": [
    "arr2 = np.array([[ 0.1,  2,  0.3,  4],\n",
    "       [ 5,  0.6,  7,  8],\n",
    "       [ 9, 10, 0.11, 0.12]])"
   ]
  },
  {
   "cell_type": "code",
   "execution_count": null,
   "id": "da85cad9-4302-4aae-9e22-677cbb24b6e2",
   "metadata": {},
   "outputs": [],
   "source": [
    "np.add(arr1,arr2)"
   ]
  },
  {
   "cell_type": "code",
   "execution_count": null,
   "id": "44b1e166-0567-4ec4-a668-caa51e24b558",
   "metadata": {},
   "outputs": [],
   "source": [
    "np.subtract(arr1,arr2)"
   ]
  },
  {
   "cell_type": "code",
   "execution_count": null,
   "id": "fd290d48-8383-4426-bfa9-7e94831e2f95",
   "metadata": {},
   "outputs": [],
   "source": [
    "np.multiply(arr1,arr2)"
   ]
  },
  {
   "cell_type": "code",
   "execution_count": null,
   "id": "c002edce-0e91-4269-9437-96a59159ab54",
   "metadata": {},
   "outputs": [],
   "source": [
    "np.sqrt(arr1)"
   ]
  },
  {
   "cell_type": "code",
   "execution_count": null,
   "id": "7ecce32c-963b-438b-bc15-2e60d23b3107",
   "metadata": {},
   "outputs": [],
   "source": [
    "np.sqrt(4)"
   ]
  },
  {
   "cell_type": "code",
   "execution_count": null,
   "id": "f41c9d72-6a96-4e4d-b6d9-4e1fcbd2640f",
   "metadata": {},
   "outputs": [],
   "source": [
    "arr1.shape"
   ]
  },
  {
   "cell_type": "code",
   "execution_count": null,
   "id": "463a9f35-d401-41cf-8b07-1cac29a99d49",
   "metadata": {},
   "outputs": [],
   "source": [
    "a = np.array([1, 2, 3, 4, 5, 6])\n"
   ]
  },
  {
   "cell_type": "code",
   "execution_count": null,
   "id": "2f7e86b4-cbf9-4ceb-8141-6a53498bef34",
   "metadata": {},
   "outputs": [],
   "source": [
    "a.shape"
   ]
  },
  {
   "cell_type": "code",
   "execution_count": null,
   "id": "63acff18-6434-44fa-a3d0-2e643ec6e51c",
   "metadata": {},
   "outputs": [],
   "source": [
    "b = np.expand_dims(a, axis=1)"
   ]
  },
  {
   "cell_type": "code",
   "execution_count": null,
   "id": "1832aba7-79f4-42c4-a98d-fdf9a3965222",
   "metadata": {},
   "outputs": [],
   "source": [
    "b.shape"
   ]
  },
  {
   "cell_type": "code",
   "execution_count": null,
   "id": "43e007af-4170-4fa3-842f-55087737a5e3",
   "metadata": {},
   "outputs": [],
   "source": [
    "c = np.expand_dims(a, axis=0)"
   ]
  },
  {
   "cell_type": "code",
   "execution_count": null,
   "id": "16ed3e69-934f-4c9d-9dc6-381a1ab735c8",
   "metadata": {},
   "outputs": [],
   "source": [
    "c.shape"
   ]
  },
  {
   "cell_type": "markdown",
   "id": "570c1577-0349-4b92-ae0f-788a77001970",
   "metadata": {},
   "source": [
    "### Numpy 수학 함수"
   ]
  },
  {
   "cell_type": "markdown",
   "id": "1133ab43-bca3-4f11-898b-cbc688336d2b",
   "metadata": {},
   "source": [
    "- sum(), mean() : 배열 전체 합, 평균\n",
    "- cumsum(), cumprod() : 배열 누적 합, 누적 곱\n",
    "- std(), var() : 표준편차, 분산\n",
    "- min(), max() : 최소값, 최대값\n",
    "- argmin(), argmax(): 최소 원소의 색인 값, 최대 원소의 색인 값"
   ]
  },
  {
   "cell_type": "markdown",
   "id": "cb52a878-cf60-4b6d-b084-07712f113573",
   "metadata": {},
   "source": [
    "### Numpy 랜덤 함수\n",
    "- seed() : 난수 발생기의 seed를 지정\n",
    "- permutation() : 임의의 순열을 반환\n",
    "- shuffle() : 리스트나 배열의 순서를 뒤섞음\n",
    "- rand() : 균등분포에서 표본을 추출\n",
    "- randint() : 주어진 최소/최대 범위 안에서 임의의 난수를 추출\n",
    "- randn() : 표준편차가 1이고 평균값이 0인 정규분포에서 표본을 추출\n",
    "- binomial() : 이항분포에서 표본을 추출\n",
    "- normal() : 정규분포(가우시안)에서 표본을 추출\n",
    "- beta() : 베타분포에서 표본을 추출\n",
    "- chisquare() : 카이제곱분포에서 표본을 추출\n",
    "- gamma() : 감마분포에서 표본을 추출\n",
    "- uniform() : 균등(0,1)에서 표본을 추출"
   ]
  },
  {
   "cell_type": "code",
   "execution_count": null,
   "id": "7366bbe9-b022-4878-821c-6d8bfde7e727",
   "metadata": {},
   "outputs": [],
   "source": []
  },
  {
   "cell_type": "code",
   "execution_count": null,
   "id": "374d42c2-dac0-416a-9807-64688777ed89",
   "metadata": {},
   "outputs": [],
   "source": []
  }
 ],
 "metadata": {
  "kernelspec": {
   "display_name": "Python 3 (ipykernel)",
   "language": "python",
   "name": "python3"
  },
  "language_info": {
   "codemirror_mode": {
    "name": "ipython",
    "version": 3
   },
   "file_extension": ".py",
   "mimetype": "text/x-python",
   "name": "python",
   "nbconvert_exporter": "python",
   "pygments_lexer": "ipython3",
   "version": "3.9.7"
  }
 },
 "nbformat": 4,
 "nbformat_minor": 5
}
