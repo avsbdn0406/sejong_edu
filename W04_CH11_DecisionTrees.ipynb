{
 "cells": [
  {
   "cell_type": "markdown",
   "id": "311e06bf-a020-457f-8721-81b7c754ca40",
   "metadata": {},
   "source": [
    "# 11장 Decision Tree (의사결정나무)\n",
    "---\n",
    "- Dates : Sep 04, 2024  \n",
    "- Author : JaeEun Yoo\n",
    "---"
   ]
  },
  {
   "cell_type": "markdown",
   "id": "e55e871c-ef32-4536-9117-9b83de3fb495",
   "metadata": {},
   "source": [
    "## Decision tree(의사결정나무)란?\n",
    "- 데이터에 있는 규칙을 학습을 통해 자동으로 찾아내 트리 기반의 분류 규칙을 만드는 것\n",
    "- 스무고개와 같은 예/아니오 질문을 이어나가면서 학습\n",
    "- 분류(Classification)와 회귀(Regression) 분석에 모두 적용 가능\n"
   ]
  },
  {
   "cell_type": "markdown",
   "id": "1c70b5ef-662b-40e9-8b15-9b1fae126657",
   "metadata": {},
   "source": [
    "![numpy array 01](./figures/dt_01.png)"
   ]
  },
  {
   "cell_type": "markdown",
   "id": "c47c346a-a83a-4d5f-aba5-0113e73dd1b4",
   "metadata": {},
   "source": [
    "-  타이타닉호의 탑승객의 생존여부"
   ]
  },
  {
   "cell_type": "markdown",
   "id": "e98fea77-e322-4900-bdfc-966e6bd22f20",
   "metadata": {},
   "source": [
    "- 결정 트리에서 질문이나 정답은 노드(Node)라고 불림\n",
    "- 한 번 분기 때마다 변수 영역을 두 개로 구분 (이진트리의 개념)\n",
    "\n",
    "<br>\n",
    " \n",
    "* 뿌리 마디(Root Node): 나무 구조가 시작되는 마디 전체 데이터로 이루어져 있음\n",
    "* 중간 마디(Internal Node): 나무 구조의 중간에 있는 마디들\n",
    "* 끝 마디(Terminal Node): 나무 구조의 끝에 위치하는 마디\n",
    "* 결정 트리의 기본 아이디어는, Leaf Node가 가장 섞이지 않은 상태로 완전히 분류되는 것, 즉 복잡성(entorpy)이 낮도록 만드는 것\n"
   ]
  },
  {
   "cell_type": "markdown",
   "id": "19a6b25d-a490-4803-b548-02053ef197aa",
   "metadata": {},
   "source": [
    "### Decision Tree의 장점\n",
    "- 분석 결과를 해석하기 쉬움\n",
    "- 변수 간의 상호작용과 비선형성을 반영하여 정확한 예측이 가능함\n",
    "- 모델의 직관성과 가시성이 높아, 어떤 결정에 대한 이유를 설명하기 용이함\n"
   ]
  },
  {
   "cell_type": "markdown",
   "id": "83e4676b-2f74-4756-8a11-1b4a8de9928d",
   "metadata": {},
   "source": [
    "---\n",
    "## 불순도(Impurity)"
   ]
  },
  {
   "cell_type": "markdown",
   "id": "58df35a4-afcc-4bee-abe8-dd617c8d7bd9",
   "metadata": {},
   "source": [
    "### 불순도란?\n",
    "- 결정트리에서 분기기준을 선택하기 위해서는 불순도(impurity)라는 개념을 사용함\n",
    "- 불순도란 **복잡성**을 의미하며, 해당 범주 안에 서로 다른 데이터가 얼마나 섞여 있는지를 뜻함\n",
    "- 다양한 개체들이 섞여 있을수록 불순도가 높아짐\n",
    "- 현재의 불순도에 비해 자식 노드의 불순도가 감소하도록 설정해야 함"
   ]
  },
  {
   "cell_type": "markdown",
   "id": "a0e12e6a-022a-4c46-b3c1-6e1df24a8f6e",
   "metadata": {},
   "source": [
    "### 지니 불순도 (Gini impurity)\n",
    "- 주어진 데이터 셋에서 서로 다른 분류들이 얼마나 섞여있는지 알려주는 값\n",
    "- 지니 불순도가 높으면 서로 다른 분류들이 많이 섞여있고, 낮으면 순수한 데이터 1개의 값으로 이루어진 것에 가까움\n",
    "- 지니 불순도의 **최대값은 0.5**"
   ]
  },
  {
   "cell_type": "markdown",
   "id": "6958eed2-f91f-4346-b7cf-eef98c0785d4",
   "metadata": {},
   "source": [
    "![numpy array 01](./figures/dt_02.png)"
   ]
  },
  {
   "cell_type": "markdown",
   "id": "9d3c3234-f415-41fa-8c75-bd8de9113f68",
   "metadata": {},
   "source": [
    "- pk = k에 속할 확률\n",
    "- 범주 안에 빨간색 점 10개, 파란색 점이 6개 있을 때의 계산 예제"
   ]
  },
  {
   "cell_type": "markdown",
   "id": "aff91f04-8e90-4e65-a004-5300aa716567",
   "metadata": {},
   "source": [
    "![numpy array 01](./figures/dt_03.png)"
   ]
  },
  {
   "cell_type": "markdown",
   "id": "df1ee63f-379a-42b3-b2ea-839bba4fb32e",
   "metadata": {},
   "source": [
    "### 엔트로피 (Entropy)\n",
    "- '주어진 집합의 혼잡도'를 의미\n",
    "- **서로 다른 값이 섞여있으면 높고(1에 가까움)** 같은 값만이 존재할 수록 낮음(0에 가까움)"
   ]
  },
  {
   "cell_type": "markdown",
   "id": "ff064868-74d8-41f9-876e-b5ba3d2aee74",
   "metadata": {},
   "source": [
    "![numpy array 01](./figures/dt_04.png)"
   ]
  },
  {
   "cell_type": "markdown",
   "id": "2d6aaa23-6894-489f-8051-7ad216dbf4cc",
   "metadata": {},
   "source": [
    "![numpy array 01](./figures/dt_05.png)"
   ]
  },
  {
   "cell_type": "markdown",
   "id": "2001a53e-51b3-46ec-9d3a-aea94b11989d",
   "metadata": {},
   "source": [
    "- 분기를 하였을 때, 이러한 불순도 함수의 값(지니 지수 또는 엔트로피 지수)이 줄어드는 방향으로 트리를 형성해야함"
   ]
  },
  {
   "cell_type": "markdown",
   "id": "5168e0e5-fbe0-46ba-9bbb-f90390d39ca5",
   "metadata": {},
   "source": [
    "## 정보획득(Information gain)"
   ]
  },
  {
   "cell_type": "markdown",
   "id": "269dcfb2-7126-4966-9058-9351c327ffe1",
   "metadata": {},
   "source": [
    "- 현재 노드의 불순도와 자식노드의 불순도 차이를 Information Gain(정보 획득)이라 함\n",
    "- 불순도가 1인 상태에서 0.7인 상태로 바뀌었다면 정보 획득(information gain)은 0.3\n",
    "- 결정트리 구성 단계\n",
    "1) Root 노드의 불순도 계산\n",
    "2) 나머지 속성에 대해 분할 후 자식노드의 불순도 계산\n",
    "3) 각 속성에 대한 Information Gain 계산 후 Information Gain(Root노드와 자식노드의 불순도 차이)이 최대가 되는 분기조건을 찾아 분기\n",
    "4) 모든 leaf 노드의 불순도가 0이 될때까지 2,3을 반복 수행"
   ]
  },
  {
   "cell_type": "markdown",
   "id": "d51f73ac-5c2c-4612-b7c8-303b5fcf3a14",
   "metadata": {},
   "source": [
    "---\n",
    "## 가지치기 (pruning)"
   ]
  },
  {
   "cell_type": "markdown",
   "id": "f5cbf74e-e3fd-4a51-8572-68891387b6dd",
   "metadata": {},
   "source": [
    "![numpy array 01](./figures/dt_06.png)"
   ]
  },
  {
   "cell_type": "markdown",
   "id": "14663018-5e43-4eeb-b5c9-7f10f7008f79",
   "metadata": {},
   "source": [
    "- 가지치기란 최대트리로 형성된 결정트리의 특정 노드 밑의 하부 트리를 제거하여 일반화 성능을 높히는 것\n",
    "- 더 많은 가지가 생기지 않도록 최대 깊이, leaf 노드의 최대 개수, 한 노드가 분할하기 위한 최소 데이터 수 등을 제한함"
   ]
  },
  {
   "cell_type": "markdown",
   "id": "57a56327-7951-4794-946d-c96529d904f8",
   "metadata": {},
   "source": [
    "---\n",
    "## 실습 : 유방암 환자 분류하기"
   ]
  },
  {
   "cell_type": "code",
   "execution_count": null,
   "id": "1ac43617-5b1e-4973-a936-d16c775630b9",
   "metadata": {},
   "outputs": [],
   "source": [
    "from sklearn.datasets import load_breast_cancer\n",
    "from sklearn.model_selection import train_test_split\n",
    "from sklearn.tree import DecisionTreeClassifier"
   ]
  },
  {
   "cell_type": "code",
   "execution_count": null,
   "id": "e075c163-be9f-4ccb-bb32-9f7bb780e431",
   "metadata": {},
   "outputs": [],
   "source": [
    "cancer = load_breast_cancer()"
   ]
  },
  {
   "cell_type": "code",
   "execution_count": null,
   "id": "e66082d0-e5b7-483d-980b-514a4c9c96ab",
   "metadata": {},
   "outputs": [],
   "source": [
    "cancer"
   ]
  },
  {
   "cell_type": "code",
   "execution_count": null,
   "id": "7b9c126e-558c-413d-99e2-dc2bc95f5b05",
   "metadata": {},
   "outputs": [],
   "source": [
    "cancer.keys()"
   ]
  },
  {
   "cell_type": "code",
   "execution_count": null,
   "id": "8df93d0d-d9e1-4517-9a16-14e589e26a81",
   "metadata": {},
   "outputs": [],
   "source": [
    "cancer['target_names']"
   ]
  },
  {
   "cell_type": "code",
   "execution_count": null,
   "id": "366dc3d2-74ad-41d1-ac48-a13cae4fd050",
   "metadata": {},
   "outputs": [],
   "source": [
    "cancer['data'].shape"
   ]
  },
  {
   "cell_type": "code",
   "execution_count": null,
   "id": "c6210884-338c-406c-bf34-ce923b14c700",
   "metadata": {},
   "outputs": [],
   "source": [
    "cancer['target'].shape"
   ]
  },
  {
   "cell_type": "code",
   "execution_count": null,
   "id": "737495c2-19e8-49ce-b9d2-ab65d97686c3",
   "metadata": {},
   "outputs": [],
   "source": [
    "cancer['data']"
   ]
  },
  {
   "cell_type": "code",
   "execution_count": null,
   "id": "18fb5ec6-bd9d-4368-b1bf-74dbba9e0971",
   "metadata": {
    "tags": []
   },
   "outputs": [],
   "source": [
    "cancer['target']"
   ]
  },
  {
   "cell_type": "code",
   "execution_count": null,
   "id": "ed739baf-9343-474a-b1b9-eb6dcd1d9e6d",
   "metadata": {},
   "outputs": [],
   "source": [
    "X_train, X_test, y_train, y_test = \\\n",
    "train_test_split(cancer.data, cancer.target, stratify=cancer.target, test_size=0.2, random_state=123)"
   ]
  },
  {
   "cell_type": "code",
   "execution_count": null,
   "id": "7c8d24a4-2dfd-4a93-9774-09e2e037a1f5",
   "metadata": {},
   "outputs": [],
   "source": [
    "X_train.shape"
   ]
  },
  {
   "cell_type": "code",
   "execution_count": null,
   "id": "c178db8d-3947-4542-83b5-a68aed7372b8",
   "metadata": {},
   "outputs": [],
   "source": [
    "X_test.shape"
   ]
  },
  {
   "cell_type": "code",
   "execution_count": null,
   "id": "07d8b1e3-7597-4aec-b202-f1b8993fbe71",
   "metadata": {},
   "outputs": [],
   "source": [
    "y_train.shape"
   ]
  },
  {
   "cell_type": "code",
   "execution_count": null,
   "id": "9345adf5-84c0-4223-afdf-7502843c232e",
   "metadata": {},
   "outputs": [],
   "source": [
    "y_test.shape"
   ]
  },
  {
   "cell_type": "code",
   "execution_count": null,
   "id": "295a5b62-2653-4f93-a62d-58d495a0f7d9",
   "metadata": {},
   "outputs": [],
   "source": [
    "tree = DecisionTreeClassifier(max_depth=5)"
   ]
  },
  {
   "cell_type": "code",
   "execution_count": null,
   "id": "8f98e0f0-c1a0-4797-8322-26a6f92ae377",
   "metadata": {},
   "outputs": [],
   "source": [
    "tree.fit(X_train, y_train)"
   ]
  },
  {
   "cell_type": "code",
   "execution_count": null,
   "id": "5015d742-7d7e-40ef-afe7-f3579a013d36",
   "metadata": {},
   "outputs": [],
   "source": [
    "print(\"test set accuracy: {:.3f}\".format(tree.score(X_test, y_test)))"
   ]
  },
  {
   "cell_type": "code",
   "execution_count": null,
   "id": "1ba7addf-55cf-4c84-91af-1e3ab06cb035",
   "metadata": {},
   "outputs": [],
   "source": [
    "from sklearn.metrics import classification_report, accuracy_score\n",
    "\n",
    "# 테스트 데이터로 예측 수행\n",
    "y_pred = tree.predict(X_test)\n",
    "\n",
    "# 모델 성능 평가\n",
    "print(\"Accuracy:\", accuracy_score(y_test, y_pred))\n",
    "print(\"Classification Report:\\n\", classification_report(y_test, y_pred))\n"
   ]
  },
  {
   "cell_type": "markdown",
   "id": "0383a31b-cecf-4ea9-8faa-bf8345968551",
   "metadata": {},
   "source": [
    "> refer\n",
    "- https://wooono.tistory.com/104\n",
    "- https://lcyking.tistory.com/entry/%EB%A8%B8%EC%8B%A0%EB%9F%AC%EB%8B%9D-%EC%9D%98%EC%82%AC%EA%B2%B0%EC%A0%95%ED%8A%B8%EB%A6%ACDecision-Tree-%EC%95%8C%EA%B3%A0%EB%A6%AC%EC%A6%98\n",
    "- https://heeya-stupidbutstudying.tistory.com/entry/ML-%EA%B2%B0%EC%A0%95%ED%8A%B8%EB%A6%ACDecision-Tree-%ED%8C%8C%ED%97%A4%EC%B9%98%EA%B8%B0"
   ]
  },
  {
   "cell_type": "code",
   "execution_count": null,
   "id": "ee8a5e4f-7655-4a42-bf52-b607b711d9f4",
   "metadata": {},
   "outputs": [],
   "source": []
  }
 ],
 "metadata": {
  "kernelspec": {
   "display_name": "Python 3 (ipykernel)",
   "language": "python",
   "name": "python3"
  },
  "language_info": {
   "codemirror_mode": {
    "name": "ipython",
    "version": 3
   },
   "file_extension": ".py",
   "mimetype": "text/x-python",
   "name": "python",
   "nbconvert_exporter": "python",
   "pygments_lexer": "ipython3",
   "version": "3.9.7"
  }
 },
 "nbformat": 4,
 "nbformat_minor": 5
}
