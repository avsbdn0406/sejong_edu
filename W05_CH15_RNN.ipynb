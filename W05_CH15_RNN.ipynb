{
 "cells": [
  {
   "cell_type": "markdown",
   "id": "311e06bf-a020-457f-8721-81b7c754ca40",
   "metadata": {},
   "source": [
    "# 15장 RNN : LSTM (Long Short-Term Memory)\n",
    "---\n",
    "- Dates : Sep 11, 2024  \n",
    "- Author : JaeEun Yoo\n",
    "---"
   ]
  },
  {
   "cell_type": "markdown",
   "id": "e55e871c-ef32-4536-9117-9b83de3fb495",
   "metadata": {},
   "source": [
    "## LSTM을 활용하여 구글 주가 예측하기\n",
    "- 7일간의 데이터를 활용하여 다음 날 종가(Close) 예측하기\n",
    "\n"
   ]
  },
  {
   "cell_type": "markdown",
   "id": "9a24257b-e15a-40ef-a327-504e313e9d5c",
   "metadata": {},
   "source": [
    "### Import module"
   ]
  },
  {
   "cell_type": "code",
   "execution_count": 1,
   "id": "40f53bf0-8d09-48df-9300-75468c1cca46",
   "metadata": {},
   "outputs": [],
   "source": [
    "import pandas as pd\n",
    "import numpy as np\n",
    "import random\n",
    "import matplotlib.pyplot as plt\n",
    "from sklearn.preprocessing import MinMaxScaler\n",
    "\n",
    "import torch\n",
    "import torch.nn as nn\n",
    "from torch.autograd import Variable\n",
    "import torch.optim as optim\n",
    "from torch.utils.data import Dataset, DataLoader\n",
    "from torch.utils.data import TensorDataset\n",
    "\n",
    "import warnings\n",
    "warnings.filterwarnings('ignore')\n"
   ]
  },
  {
   "cell_type": "code",
   "execution_count": 2,
   "id": "cb3920c9-5cb2-43ff-99bb-96c79870ba4c",
   "metadata": {},
   "outputs": [
    {
     "name": "stdout",
     "output_type": "stream",
     "text": [
      "cpu is available\n"
     ]
    }
   ],
   "source": [
    "device = 'cuda' if torch.cuda.is_available() else 'cpu'\n",
    "\n",
    "# device = torch.device(\"mps\")\n",
    "print(str(device) + \" is available\")"
   ]
  },
  {
   "cell_type": "code",
   "execution_count": 3,
   "id": "6e4bc119-afa7-4070-b4a4-2afda69fa177",
   "metadata": {},
   "outputs": [],
   "source": [
    "# 랜덤 시드 고정\n",
    "torch.manual_seed(777)\n",
    "\n",
    "# GPU 사용 가능일 경우 랜덤 시드 고정\n",
    "if device == 'cuda':\n",
    "    torch.cuda.manual_seed_all(777)"
   ]
  },
  {
   "cell_type": "markdown",
   "id": "a4f18119-c948-4d65-9715-5be209e8dc8a",
   "metadata": {},
   "source": [
    "### Load dataset"
   ]
  },
  {
   "cell_type": "code",
   "execution_count": 4,
   "id": "20c7ad3a-9bb0-4a03-ad73-2ce755fdad50",
   "metadata": {},
   "outputs": [],
   "source": [
    "# 데이터 불러오기\n",
    "df = pd.read_csv('./data-02-stock_daily.csv')"
   ]
  },
  {
   "cell_type": "code",
   "execution_count": 5,
   "id": "dd1f0f30-d135-4af2-9746-2aaa0d39bda9",
   "metadata": {},
   "outputs": [
    {
     "data": {
      "text/html": [
       "<div>\n",
       "<style scoped>\n",
       "    .dataframe tbody tr th:only-of-type {\n",
       "        vertical-align: middle;\n",
       "    }\n",
       "\n",
       "    .dataframe tbody tr th {\n",
       "        vertical-align: top;\n",
       "    }\n",
       "\n",
       "    .dataframe thead th {\n",
       "        text-align: right;\n",
       "    }\n",
       "</style>\n",
       "<table border=\"1\" class=\"dataframe\">\n",
       "  <thead>\n",
       "    <tr style=\"text-align: right;\">\n",
       "      <th></th>\n",
       "      <th>Open</th>\n",
       "      <th>High</th>\n",
       "      <th>Low</th>\n",
       "      <th>Volume</th>\n",
       "      <th>Close</th>\n",
       "    </tr>\n",
       "  </thead>\n",
       "  <tbody>\n",
       "    <tr>\n",
       "      <th>0</th>\n",
       "      <td>828.659973</td>\n",
       "      <td>833.450012</td>\n",
       "      <td>828.349976</td>\n",
       "      <td>1247700</td>\n",
       "      <td>831.659973</td>\n",
       "    </tr>\n",
       "    <tr>\n",
       "      <th>1</th>\n",
       "      <td>823.020020</td>\n",
       "      <td>828.070007</td>\n",
       "      <td>821.655029</td>\n",
       "      <td>1597800</td>\n",
       "      <td>828.070007</td>\n",
       "    </tr>\n",
       "    <tr>\n",
       "      <th>2</th>\n",
       "      <td>819.929993</td>\n",
       "      <td>824.400024</td>\n",
       "      <td>818.979980</td>\n",
       "      <td>1281700</td>\n",
       "      <td>824.159973</td>\n",
       "    </tr>\n",
       "    <tr>\n",
       "      <th>3</th>\n",
       "      <td>819.359985</td>\n",
       "      <td>823.000000</td>\n",
       "      <td>818.469971</td>\n",
       "      <td>1304000</td>\n",
       "      <td>818.979980</td>\n",
       "    </tr>\n",
       "    <tr>\n",
       "      <th>4</th>\n",
       "      <td>819.000000</td>\n",
       "      <td>823.000000</td>\n",
       "      <td>816.000000</td>\n",
       "      <td>1053600</td>\n",
       "      <td>820.450012</td>\n",
       "    </tr>\n",
       "    <tr>\n",
       "      <th>...</th>\n",
       "      <td>...</td>\n",
       "      <td>...</td>\n",
       "      <td>...</td>\n",
       "      <td>...</td>\n",
       "      <td>...</td>\n",
       "    </tr>\n",
       "    <tr>\n",
       "      <th>727</th>\n",
       "      <td>599.992707</td>\n",
       "      <td>604.832763</td>\n",
       "      <td>562.192568</td>\n",
       "      <td>147100</td>\n",
       "      <td>567.002574</td>\n",
       "    </tr>\n",
       "    <tr>\n",
       "      <th>728</th>\n",
       "      <td>558.712504</td>\n",
       "      <td>568.452595</td>\n",
       "      <td>558.712504</td>\n",
       "      <td>7900</td>\n",
       "      <td>567.162558</td>\n",
       "    </tr>\n",
       "    <tr>\n",
       "      <th>729</th>\n",
       "      <td>566.892592</td>\n",
       "      <td>567.002574</td>\n",
       "      <td>556.932537</td>\n",
       "      <td>10800</td>\n",
       "      <td>556.972503</td>\n",
       "    </tr>\n",
       "    <tr>\n",
       "      <th>730</th>\n",
       "      <td>561.202549</td>\n",
       "      <td>566.432590</td>\n",
       "      <td>558.672539</td>\n",
       "      <td>41200</td>\n",
       "      <td>559.992565</td>\n",
       "    </tr>\n",
       "    <tr>\n",
       "      <th>731</th>\n",
       "      <td>568.002570</td>\n",
       "      <td>568.002570</td>\n",
       "      <td>552.922516</td>\n",
       "      <td>13100</td>\n",
       "      <td>558.462551</td>\n",
       "    </tr>\n",
       "  </tbody>\n",
       "</table>\n",
       "<p>732 rows × 5 columns</p>\n",
       "</div>"
      ],
      "text/plain": [
       "           Open        High         Low   Volume       Close\n",
       "0    828.659973  833.450012  828.349976  1247700  831.659973\n",
       "1    823.020020  828.070007  821.655029  1597800  828.070007\n",
       "2    819.929993  824.400024  818.979980  1281700  824.159973\n",
       "3    819.359985  823.000000  818.469971  1304000  818.979980\n",
       "4    819.000000  823.000000  816.000000  1053600  820.450012\n",
       "..          ...         ...         ...      ...         ...\n",
       "727  599.992707  604.832763  562.192568   147100  567.002574\n",
       "728  558.712504  568.452595  558.712504     7900  567.162558\n",
       "729  566.892592  567.002574  556.932537    10800  556.972503\n",
       "730  561.202549  566.432590  558.672539    41200  559.992565\n",
       "731  568.002570  568.002570  552.922516    13100  558.462551\n",
       "\n",
       "[732 rows x 5 columns]"
      ]
     },
     "execution_count": 5,
     "metadata": {},
     "output_type": "execute_result"
    }
   ],
   "source": [
    "df"
   ]
  },
  {
   "cell_type": "markdown",
   "id": "5e99c82e-f277-4ec1-b569-98fdcf69a68d",
   "metadata": {},
   "source": [
    "### Initialize the parameters"
   ]
  },
  {
   "cell_type": "code",
   "execution_count": 6,
   "id": "652c2378-e1ec-4856-81f7-3a7f1d2f548d",
   "metadata": {},
   "outputs": [],
   "source": [
    "# 7일간의 데이터가 입력으로 들어가고 batch size는 임의로 지정\n",
    "time_step = 7\n",
    "batch = 100\n",
    "\n",
    "learning_rate = 1e-4\n",
    "epochs = 200\n",
    "batch_size = 16\n",
    "\n",
    "data_dim = 5\n",
    "hidden_dim = 8 \n",
    "output_dim = 1 "
   ]
  },
  {
   "cell_type": "code",
   "execution_count": 7,
   "id": "6074e6a7-a425-4bd4-8210-2ba61b2ee68e",
   "metadata": {},
   "outputs": [],
   "source": [
    "# 데이터를 역순으로 정렬하여 전체 데이터의 70% 학습, 30% 테스트에 사용\n",
    "df = df[::-1]  \n",
    "train_size = int(len(df)*0.7)\n",
    "train_set = df[0:train_size]  \n",
    "test_set = df[train_size:]"
   ]
  },
  {
   "cell_type": "code",
   "execution_count": 8,
   "id": "14463ada-8f2c-488c-b809-6a75f42e7e63",
   "metadata": {},
   "outputs": [
    {
     "data": {
      "text/html": [
       "<div>\n",
       "<style scoped>\n",
       "    .dataframe tbody tr th:only-of-type {\n",
       "        vertical-align: middle;\n",
       "    }\n",
       "\n",
       "    .dataframe tbody tr th {\n",
       "        vertical-align: top;\n",
       "    }\n",
       "\n",
       "    .dataframe thead th {\n",
       "        text-align: right;\n",
       "    }\n",
       "</style>\n",
       "<table border=\"1\" class=\"dataframe\">\n",
       "  <thead>\n",
       "    <tr style=\"text-align: right;\">\n",
       "      <th></th>\n",
       "      <th>Open</th>\n",
       "      <th>High</th>\n",
       "      <th>Low</th>\n",
       "      <th>Volume</th>\n",
       "      <th>Close</th>\n",
       "    </tr>\n",
       "  </thead>\n",
       "  <tbody>\n",
       "    <tr>\n",
       "      <th>731</th>\n",
       "      <td>568.002570</td>\n",
       "      <td>568.002570</td>\n",
       "      <td>552.922516</td>\n",
       "      <td>13100</td>\n",
       "      <td>558.462551</td>\n",
       "    </tr>\n",
       "    <tr>\n",
       "      <th>730</th>\n",
       "      <td>561.202549</td>\n",
       "      <td>566.432590</td>\n",
       "      <td>558.672539</td>\n",
       "      <td>41200</td>\n",
       "      <td>559.992565</td>\n",
       "    </tr>\n",
       "    <tr>\n",
       "      <th>729</th>\n",
       "      <td>566.892592</td>\n",
       "      <td>567.002574</td>\n",
       "      <td>556.932537</td>\n",
       "      <td>10800</td>\n",
       "      <td>556.972503</td>\n",
       "    </tr>\n",
       "    <tr>\n",
       "      <th>728</th>\n",
       "      <td>558.712504</td>\n",
       "      <td>568.452595</td>\n",
       "      <td>558.712504</td>\n",
       "      <td>7900</td>\n",
       "      <td>567.162558</td>\n",
       "    </tr>\n",
       "    <tr>\n",
       "      <th>727</th>\n",
       "      <td>599.992707</td>\n",
       "      <td>604.832763</td>\n",
       "      <td>562.192568</td>\n",
       "      <td>147100</td>\n",
       "      <td>567.002574</td>\n",
       "    </tr>\n",
       "    <tr>\n",
       "      <th>...</th>\n",
       "      <td>...</td>\n",
       "      <td>...</td>\n",
       "      <td>...</td>\n",
       "      <td>...</td>\n",
       "      <td>...</td>\n",
       "    </tr>\n",
       "    <tr>\n",
       "      <th>224</th>\n",
       "      <td>738.599976</td>\n",
       "      <td>750.340027</td>\n",
       "      <td>737.000000</td>\n",
       "      <td>1576700</td>\n",
       "      <td>749.909973</td>\n",
       "    </tr>\n",
       "    <tr>\n",
       "      <th>223</th>\n",
       "      <td>750.059998</td>\n",
       "      <td>752.799988</td>\n",
       "      <td>742.429993</td>\n",
       "      <td>1134200</td>\n",
       "      <td>745.289978</td>\n",
       "    </tr>\n",
       "    <tr>\n",
       "      <th>222</th>\n",
       "      <td>738.000000</td>\n",
       "      <td>742.799988</td>\n",
       "      <td>735.369995</td>\n",
       "      <td>1132300</td>\n",
       "      <td>737.799988</td>\n",
       "    </tr>\n",
       "    <tr>\n",
       "      <th>221</th>\n",
       "      <td>735.770020</td>\n",
       "      <td>746.239990</td>\n",
       "      <td>735.559998</td>\n",
       "      <td>1053700</td>\n",
       "      <td>745.690002</td>\n",
       "    </tr>\n",
       "    <tr>\n",
       "      <th>220</th>\n",
       "      <td>745.369995</td>\n",
       "      <td>747.000000</td>\n",
       "      <td>736.280029</td>\n",
       "      <td>1453200</td>\n",
       "      <td>740.280029</td>\n",
       "    </tr>\n",
       "  </tbody>\n",
       "</table>\n",
       "<p>512 rows × 5 columns</p>\n",
       "</div>"
      ],
      "text/plain": [
       "           Open        High         Low   Volume       Close\n",
       "731  568.002570  568.002570  552.922516    13100  558.462551\n",
       "730  561.202549  566.432590  558.672539    41200  559.992565\n",
       "729  566.892592  567.002574  556.932537    10800  556.972503\n",
       "728  558.712504  568.452595  558.712504     7900  567.162558\n",
       "727  599.992707  604.832763  562.192568   147100  567.002574\n",
       "..          ...         ...         ...      ...         ...\n",
       "224  738.599976  750.340027  737.000000  1576700  749.909973\n",
       "223  750.059998  752.799988  742.429993  1134200  745.289978\n",
       "222  738.000000  742.799988  735.369995  1132300  737.799988\n",
       "221  735.770020  746.239990  735.559998  1053700  745.690002\n",
       "220  745.369995  747.000000  736.280029  1453200  740.280029\n",
       "\n",
       "[512 rows x 5 columns]"
      ]
     },
     "execution_count": 8,
     "metadata": {},
     "output_type": "execute_result"
    }
   ],
   "source": [
    "train_set"
   ]
  },
  {
   "cell_type": "markdown",
   "id": "bc485727-e94f-4945-88f3-8666f3a54395",
   "metadata": {},
   "source": [
    "### Dataset Normalization"
   ]
  },
  {
   "cell_type": "code",
   "execution_count": 9,
   "id": "cdd2c1b4-7f0a-4640-82db-2caf8ac5320d",
   "metadata": {
    "scrolled": true
   },
   "outputs": [],
   "source": [
    "# Input scale\n",
    "scaler_x = MinMaxScaler()\n",
    "scaler_x.fit(train_set.iloc[:, :-1])\n",
    "\n",
    "train_set.iloc[:, :-1] = scaler_x.transform(train_set.iloc[:, :-1])\n",
    "test_set.iloc[:, :-1] = scaler_x.transform(test_set.iloc[:, :-1])\n",
    "\n",
    "# Output scale\n",
    "scaler_y = MinMaxScaler()\n",
    "scaler_y.fit(train_set.iloc[:, [-1]])\n",
    "\n",
    "train_set.iloc[:, [-1]] = scaler_y.transform(train_set.iloc[:, [-1]])\n",
    "test_set.iloc[:, [-1]] = scaler_y.transform(test_set.iloc[:, [-1]])\n"
   ]
  },
  {
   "cell_type": "code",
   "execution_count": 10,
   "id": "e16e60aa-bf3e-4cf4-a4d1-443b05dab01e",
   "metadata": {},
   "outputs": [
    {
     "data": {
      "text/plain": [
       "Open      0.0\n",
       "High      0.0\n",
       "Low       0.0\n",
       "Volume    0.0\n",
       "Close     0.0\n",
       "dtype: float64"
      ]
     },
     "execution_count": 10,
     "metadata": {},
     "output_type": "execute_result"
    }
   ],
   "source": [
    "train_set.min()"
   ]
  },
  {
   "cell_type": "code",
   "execution_count": 11,
   "id": "ae28affd-d194-4ba3-84c0-085970f7811d",
   "metadata": {},
   "outputs": [
    {
     "data": {
      "text/plain": [
       "Open      1.0\n",
       "High      1.0\n",
       "Low       1.0\n",
       "Volume    1.0\n",
       "Close     1.0\n",
       "dtype: float64"
      ]
     },
     "execution_count": 11,
     "metadata": {},
     "output_type": "execute_result"
    }
   ],
   "source": [
    "train_set.max()"
   ]
  },
  {
   "cell_type": "markdown",
   "id": "faaa7267-0588-4004-93da-61848fbcc252",
   "metadata": {},
   "source": [
    "### Make Dataset"
   ]
  },
  {
   "cell_type": "code",
   "execution_count": 12,
   "id": "cf3606e3-1360-4193-b4e0-4b463f4710d2",
   "metadata": {},
   "outputs": [],
   "source": [
    "# 데이터셋 생성 함수\n",
    "def build_dataset(time_series, seq_length):\n",
    "    dataX = []\n",
    "    dataY = []\n",
    "    for i in range(0, len(time_series)-seq_length):\n",
    "        _x = time_series[i:i+seq_length, :]\n",
    "        _y = time_series[i+seq_length, [-1]]\n",
    "        # print(_x, \"-->\",_y)\n",
    "        dataX.append(_x)\n",
    "        dataY.append(_y)\n",
    "\n",
    "    return np.array(dataX), np.array(dataY)\n"
   ]
  },
  {
   "cell_type": "code",
   "execution_count": 13,
   "id": "28752636-02a3-4acd-b856-9f8b8b1e5f11",
   "metadata": {},
   "outputs": [],
   "source": [
    "X_train, y_train = build_dataset(np.array(train_set), time_step)\n",
    "X_test, y_test = build_dataset(np.array(test_set), time_step)"
   ]
  },
  {
   "cell_type": "code",
   "execution_count": 14,
   "id": "7d20e130-3eb8-42eb-bcbf-45d042488fd7",
   "metadata": {},
   "outputs": [
    {
     "data": {
      "text/plain": [
       "(505, 7, 5)"
      ]
     },
     "execution_count": 14,
     "metadata": {},
     "output_type": "execute_result"
    }
   ],
   "source": [
    "X_train.shape"
   ]
  },
  {
   "cell_type": "code",
   "execution_count": 15,
   "id": "abd7b213-9e74-40c1-8fae-fc4dc1316123",
   "metadata": {},
   "outputs": [
    {
     "data": {
      "text/plain": [
       "(505, 1)"
      ]
     },
     "execution_count": 15,
     "metadata": {},
     "output_type": "execute_result"
    }
   ],
   "source": [
    "y_train.shape"
   ]
  },
  {
   "cell_type": "code",
   "execution_count": 16,
   "id": "5ff1b877-7130-41e2-8ce4-c1adf87d971d",
   "metadata": {},
   "outputs": [],
   "source": [
    "# 텐서로 변환\n",
    "X_train_tensor = torch.FloatTensor(X_train)\n",
    "y_train_tensor = torch.FloatTensor(y_train)\n",
    "\n",
    "X_test_tensor = torch.FloatTensor(X_test)\n",
    "y_test_tensor = torch.FloatTensor(y_test)"
   ]
  },
  {
   "cell_type": "code",
   "execution_count": 17,
   "id": "98ab0bce-da4b-465e-8ede-90b761cc0dd6",
   "metadata": {},
   "outputs": [
    {
     "data": {
      "text/plain": [
       "torch.Size([505, 7, 5])"
      ]
     },
     "execution_count": 17,
     "metadata": {},
     "output_type": "execute_result"
    }
   ],
   "source": [
    "X_train_tensor.shape"
   ]
  },
  {
   "cell_type": "code",
   "execution_count": 18,
   "id": "ed3543c7-5176-4e70-8d60-b96ac60075bf",
   "metadata": {},
   "outputs": [],
   "source": [
    "# 텐서 형태로 데이터 정의\n",
    "dataset = TensorDataset(X_train_tensor, y_train_tensor)\n",
    "\n",
    "dataloader = DataLoader(dataset,\n",
    "                        batch_size=batch_size,\n",
    "                        shuffle=True,  \n",
    "                        drop_last=True)"
   ]
  },
  {
   "cell_type": "markdown",
   "id": "c129f159-2500-4fbc-a70f-382424b5553d",
   "metadata": {},
   "source": [
    "### Intialize Model"
   ]
  },
  {
   "cell_type": "code",
   "execution_count": 19,
   "id": "63a137b0-6a70-4389-be99-bc13c7cc6440",
   "metadata": {},
   "outputs": [],
   "source": [
    "class Net(nn.Module):\n",
    "    # # 기본변수, layer를 초기화해주는 생성자\n",
    "    def __init__(self, input_dim, hidden_dim, seq_len, output_dim, layers):\n",
    "        super(Net, self).__init__()\n",
    "        self.hidden_dim = hidden_dim\n",
    "        self.seq_len = seq_len\n",
    "        self.output_dim = output_dim\n",
    "        self.layers = layers\n",
    "        \n",
    "        self.lstm = nn.LSTM(input_dim, hidden_dim, num_layers=layers,\n",
    "                            # dropout = 0.1,\n",
    "                            batch_first=True)\n",
    "        self.fc = nn.Linear(hidden_dim, output_dim, bias = True) \n",
    "        \n",
    "    # 학습 초기화를 위한 함수\n",
    "    def reset_hidden_state(self): \n",
    "        self.hidden = (\n",
    "                torch.zeros(self.layers, self.seq_len, self.hidden_dim),\n",
    "                torch.zeros(self.layers, self.seq_len, self.hidden_dim))\n",
    "    \n",
    "    # 예측을 위한 함수\n",
    "    def forward(self, x):\n",
    "        x, _status = self.lstm(x)\n",
    "        x = self.fc(x[:, -1])\n",
    "        return x"
   ]
  },
  {
   "cell_type": "code",
   "execution_count": 20,
   "id": "ee95b039-176b-49de-bfc5-888f8fac605b",
   "metadata": {},
   "outputs": [],
   "source": [
    "def train_model(model, train_df, num_epochs = None, lr = None, verbose = 10, patience = 10):\n",
    "     \n",
    "    criterion = nn.MSELoss().to(device)\n",
    "    optimizer = optim.Adam(model.parameters(), lr = learning_rate)\n",
    "    nb_epochs = num_epochs\n",
    "    \n",
    "    # epoch마다 loss 저장\n",
    "    train_hist = np.zeros(nb_epochs)\n",
    "\n",
    "    for epoch in range(nb_epochs):\n",
    "        avg_cost = 0\n",
    "        total_batch = len(train_df)\n",
    "        \n",
    "        for batch_idx, samples in enumerate(train_df):\n",
    "\n",
    "            x_train, y_train = samples\n",
    "            \n",
    "            # seq별 hidden state reset\n",
    "            model.reset_hidden_state()\n",
    "            \n",
    "            # H(x) 계산\n",
    "            outputs = model(x_train)\n",
    "                \n",
    "            # cost 계산\n",
    "            loss = criterion(outputs, y_train)                    \n",
    "            \n",
    "            # cost로 H(x) 개선\n",
    "            optimizer.zero_grad()\n",
    "            loss.backward()\n",
    "            optimizer.step()\n",
    "            \n",
    "            avg_cost += loss/total_batch\n",
    "               \n",
    "        train_hist[epoch] = avg_cost        \n",
    "        \n",
    "        if (epoch+1) % verbose == 0:\n",
    "            print('Epoch:', '%04d' % (epoch+1), 'train loss :', '{:.4f}'.format(avg_cost))\n",
    "            \n",
    "        # patience번째 마다 early stopping 여부 확인\n",
    "        if (epoch % patience == 0) & (epoch != 0):\n",
    "            \n",
    "            # loss가 커졌다면 early stop\n",
    "            if train_hist[epoch-patience] < train_hist[epoch]:\n",
    "                print('\\n Early Stopping')\n",
    "                \n",
    "                break\n",
    "            \n",
    "    return model.eval(), train_hist"
   ]
  },
  {
   "cell_type": "code",
   "execution_count": 21,
   "id": "57169f34-8e56-4d07-bc3f-05c2e750c9ef",
   "metadata": {},
   "outputs": [
    {
     "name": "stdout",
     "output_type": "stream",
     "text": [
      "Epoch: 0019 train loss : 0.1434\n",
      "Epoch: 0039 train loss : 0.0151\n",
      "Epoch: 0059 train loss : 0.0042\n",
      "Epoch: 0079 train loss : 0.0034\n",
      "Epoch: 0099 train loss : 0.0031\n",
      "Epoch: 0119 train loss : 0.0030\n",
      "Epoch: 0139 train loss : 0.0029\n",
      "Epoch: 0159 train loss : 0.0027\n",
      "Epoch: 0179 train loss : 0.0026\n",
      "\n",
      " Early Stopping\n"
     ]
    }
   ],
   "source": [
    "# 모델 학습\n",
    "net = Net(data_dim, hidden_dim, time_step, output_dim, 1).to(device)  \n",
    "model, train_hist = train_model(net, dataloader, num_epochs = epochs, lr = learning_rate, verbose = 20, patience = 10)"
   ]
  },
  {
   "cell_type": "code",
   "execution_count": 22,
   "id": "8a21bbdd-9e3d-4d15-a310-1259e2a2e898",
   "metadata": {},
   "outputs": [
    {
     "data": {
      "image/png": "[encoded data removed]",
      "text/plain": [
       "<Figure size 1000x400 with 1 Axes>"
      ]
     },
     "metadata": {},
     "output_type": "display_data"
    }
   ],
   "source": [
    "# epoch별 손실값\n",
    "fig = plt.figure(figsize=(10, 4))\n",
    "plt.plot(train_hist, label=\"Training loss\")\n",
    "plt.legend()\n",
    "plt.show()"
   ]
  },
  {
   "cell_type": "code",
   "execution_count": 23,
   "id": "8dd80b2a-7d4b-4aed-9c07-2b44f336d0bb",
   "metadata": {
    "scrolled": true
   },
   "outputs": [
    {
     "name": "stdout",
     "output_type": "stream",
     "text": [
      "MAE SCORE :  15.310326930984214\n"
     ]
    }
   ],
   "source": [
    "# 예측 테스트\n",
    "with torch.no_grad(): \n",
    "    pred = []\n",
    "    for pr in range(len(X_test_tensor)):\n",
    "\n",
    "        model.reset_hidden_state()\n",
    "\n",
    "        predicted = model(torch.unsqueeze(X_test_tensor[pr], 0))\n",
    "        predicted = torch.flatten(predicted).item()\n",
    "        pred.append(predicted)\n",
    "\n",
    "    # INVERSE\n",
    "    pred_inverse = scaler_y.inverse_transform(np.array(pred).reshape(-1, 1))\n",
    "    testY_inverse = scaler_y.inverse_transform(y_test_tensor)\n",
    "\n",
    "def MAE(true, pred):\n",
    "    return np.mean(np.abs(true-pred))\n",
    "\n",
    "print('MAE SCORE : ', MAE(pred_inverse, testY_inverse))"
   ]
  },
  {
   "cell_type": "code",
   "execution_count": 30,
   "id": "7da6d124-24dd-4662-a72c-c168f54fd184",
   "metadata": {},
   "outputs": [
    {
     "data": {
      "image/png": "[encoded data removed]",
      "text/plain": [
       "<Figure size 800x300 with 1 Axes>"
      ]
     },
     "metadata": {},
     "output_type": "display_data"
    }
   ],
   "source": [
    "fig = plt.figure(figsize=(8,3))\n",
    "plt.plot(np.arange(len(pred_inverse)), pred_inverse, label = 'pred')\n",
    "plt.plot(np.arange(len(testY_inverse)), testY_inverse, label = 'true')\n",
    "plt.title(\"Loss plot\")\n",
    "plt.show()"
   ]
  },
  {
   "cell_type": "code",
   "execution_count": null,
   "id": "e2f93eb2-05cb-4bdc-aa46-b8f85f8ccff9",
   "metadata": {},
   "outputs": [],
   "source": []
  }
 ],
 "metadata": {
  "kernelspec": {
   "display_name": "Python 3 (ipykernel)",
   "language": "python",
   "name": "python3"
  },
  "language_info": {
   "codemirror_mode": {
    "name": "ipython",
    "version": 3
   },
   "file_extension": ".py",
   "mimetype": "text/x-python",
   "name": "python",
   "nbconvert_exporter": "python",
   "pygments_lexer": "ipython3",
   "version": "3.9.19"
  }
 },
 "nbformat": 4,
 "nbformat_minor": 5
}
