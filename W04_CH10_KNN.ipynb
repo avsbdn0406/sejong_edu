{
 "cells": [
  {
   "cell_type": "markdown",
   "id": "311e06bf-a020-457f-8721-81b7c754ca40",
   "metadata": {},
   "source": [
    "# 09장 k-NN (k-Nearest Neighbor)\n",
    "---\n",
    "- Dates : Sep 04, 2024  \n",
    "- Author : JaeEun Yoo\n",
    "---"
   ]
  },
  {
   "cell_type": "markdown",
   "id": "e55e871c-ef32-4536-9117-9b83de3fb495",
   "metadata": {},
   "source": [
    "## kNN(k-Nearest Neighbor)이란?\n",
    "- k-최근접 이웃 알고리즘이라고도 하며,특정 공간 내 입력된 데이터와 가장 가까운 K개의 요소를 찾아 더 많이 일치하는 곳으로 분류하는 알고리즘\n",
    "- 지도학습 알고리즘(Supervise learning)에 해당하며 분류, 회귀 모두 사용 가능\n",
    "- 유사한 특성을 가진 데이터는 유사한 범주에 속하는 경향이 있다는 가정하에 사용\n"
   ]
  },
  {
   "cell_type": "markdown",
   "id": "1c70b5ef-662b-40e9-8b15-9b1fae126657",
   "metadata": {},
   "source": [
    "![numpy array 01](./figures/knn_01.png)"
   ]
  },
  {
   "cell_type": "markdown",
   "id": "3b14b9a5-344f-4fa1-9906-67403b07d533",
   "metadata": {},
   "source": [
    "- KNN 알고리즘을 간단하게 정의 하자면, **새로운 데이터와 기존 데이터들간 거리를 측정, 가까운 데이터들의 종류가 무엇인지 확인, 새로운 데이터의 종류를 판별**하는 알고리즘\n",
    "-  **K**는 인접한 데이터의 갯수"
   ]
  },
  {
   "cell_type": "markdown",
   "id": "fea39a67-ffb0-49cf-93ae-42c3803acb35",
   "metadata": {},
   "source": [
    "![numpy array 01](./figures/knn_02.png)"
   ]
  },
  {
   "cell_type": "markdown",
   "id": "7c0bf4d2-5662-4cad-a19e-c22ce5117b82",
   "metadata": {},
   "source": [
    "**K가 1일 때**  \n",
    "가장 가까운 데이터를 선택\n",
    "위 그림에서 세모가 새로운 데이터라면 가장 가까운 **별**로 분류\n",
    "\n",
    " \n",
    "**K가 3일 때**  \n",
    "가장 가까운 데이터를 순서대로 선택\n",
    "위 그림에서는 세모랑 가장 가까운 3개의 종류를 뽑으면 **동그라미2, 별1**로 분류  \n",
    "동그라미가 2개로 가장 많기 때문에 세모는 동그라미로 분류됨\n",
    "\n"
   ]
  },
  {
   "cell_type": "markdown",
   "id": "b074b117-ae7f-4503-8ad8-d76e909c88fa",
   "metadata": {},
   "source": [
    "![numpy array 01](./figures/knn_03.png)"
   ]
  },
  {
   "cell_type": "markdown",
   "id": "7b5a2b0d-c698-419d-95fa-34917ad6b1c3",
   "metadata": {},
   "source": [
    "**K가 1일 때**  \n",
    "가장 가까운 데이터인 Green으로 분류"
   ]
  },
  {
   "cell_type": "markdown",
   "id": "bf27de2e-3621-4d7e-bdbf-e24e5614b6eb",
   "metadata": {},
   "source": [
    "![numpy array 01](./figures/knn_04.png)"
   ]
  },
  {
   "cell_type": "markdown",
   "id": "f0887d8b-9dd8-49c0-9fff-5819385996f6",
   "metadata": {},
   "source": [
    "**K가 5일 때**  \n",
    "가장 가까운 데이터 중 개수가 많은 Red로 분류"
   ]
  },
  {
   "cell_type": "markdown",
   "id": "6f942081-a81a-471a-baaf-0b4c855d9d0f",
   "metadata": {},
   "source": [
    "KNN 알고리즘은 K에 따라 결과가 달라지기 때문에 **적합한 K를 정해주는 것이 가장 중요한 요소**  \n",
    "K를 너무 작게 설정 했을 경우 **과적합**이 우려  \n",
    "K를 너무 크게 설정했을 경우 **데이터 구조 파악이 어려움**"
   ]
  },
  {
   "cell_type": "markdown",
   "id": "57a56327-7951-4794-946d-c96529d904f8",
   "metadata": {},
   "source": [
    "---\n",
    "## 실습 : 방울토마토 데이터 분류하기"
   ]
  },
  {
   "cell_type": "code",
   "execution_count": null,
   "id": "1ac43617-5b1e-4973-a936-d16c775630b9",
   "metadata": {},
   "outputs": [],
   "source": [
    "import random\n",
    "import numpy as np"
   ]
  },
  {
   "cell_type": "code",
   "execution_count": null,
   "id": "e075c163-be9f-4ccb-bb32-9f7bb780e431",
   "metadata": {},
   "outputs": [],
   "source": [
    "g_tomato = [] #방울토마토 1\n",
    "tomato = [] #토마토 0\n",
    "for i in range(50):\n",
    "    #크기가 1~10 사이에 있고, 무게가 50~100 사이에 있으면 방울토마토 (label=1)\n",
    "    g_tomato.append([random.randint(1,10),random.randint(50,100),1])\n",
    "    #크기가 7~20 사이에 있고, 무게가 80~120 사이에 있으면 토마토 (label=0)\n",
    "    tomato.append([random.randint(7,20),random.randint(80,120),0])"
   ]
  },
  {
   "cell_type": "code",
   "execution_count": null,
   "id": "781e7807-ad9a-4c35-877b-3e2a8349d0e1",
   "metadata": {},
   "outputs": [],
   "source": [
    "g_tomato = np.array(g_tomato)\n",
    "tomato = np.array(tomato)"
   ]
  },
  {
   "cell_type": "code",
   "execution_count": null,
   "id": "4375219f-b6db-4a4b-b929-091e30882efb",
   "metadata": {},
   "outputs": [],
   "source": [
    "X_train = np.concatenate([g_tomato[:40,:2],tomato[:40,:2]])\n",
    "X_test = np.concatenate([g_tomato[40:,:2],tomato[40:,:2]])"
   ]
  },
  {
   "cell_type": "code",
   "execution_count": null,
   "id": "3d517f39-a97b-4320-be46-60013c47bd84",
   "metadata": {},
   "outputs": [],
   "source": [
    "X_train.shape"
   ]
  },
  {
   "cell_type": "code",
   "execution_count": null,
   "id": "072bc46c-828f-473d-bc50-a545fad5f68b",
   "metadata": {},
   "outputs": [],
   "source": [
    "X_test.shape"
   ]
  },
  {
   "cell_type": "code",
   "execution_count": null,
   "id": "907dc5bb-aed7-4512-bcf8-6fe5d061aed8",
   "metadata": {},
   "outputs": [],
   "source": [
    "y_train = np.concatenate([g_tomato[:40,-1],tomato[:40,-1]])\n",
    "y_test = np.concatenate([g_tomato[40:,-1],tomato[40:,-1]])"
   ]
  },
  {
   "cell_type": "code",
   "execution_count": null,
   "id": "9feca53f-6ff6-4a2f-bcea-67be48939126",
   "metadata": {},
   "outputs": [],
   "source": [
    "y_train.shape"
   ]
  },
  {
   "cell_type": "code",
   "execution_count": null,
   "id": "ce643b0b-109f-4529-bfc2-e4580d2d0717",
   "metadata": {},
   "outputs": [],
   "source": [
    "y_test.shape"
   ]
  },
  {
   "cell_type": "code",
   "execution_count": null,
   "id": "e17ad831-96d6-46b9-ada0-f0a0f7e7b8ca",
   "metadata": {},
   "outputs": [],
   "source": [
    "from sklearn.neighbors import KNeighborsClassifier"
   ]
  },
  {
   "cell_type": "code",
   "execution_count": null,
   "id": "cd0b4dba-d62e-43d2-b19d-281821de4e23",
   "metadata": {},
   "outputs": [],
   "source": [
    "classifier = KNeighborsClassifier(n_neighbors=3)"
   ]
  },
  {
   "cell_type": "code",
   "execution_count": null,
   "id": "cf223a04-5c48-4212-8196-a4641400a671",
   "metadata": {},
   "outputs": [],
   "source": [
    "classifier.fit(X_train,y_train)"
   ]
  },
  {
   "cell_type": "code",
   "execution_count": null,
   "id": "00c5ae6e-4042-4613-b5ff-600797cc837c",
   "metadata": {},
   "outputs": [],
   "source": [
    "y_pred = classifier.predict(X_test)"
   ]
  },
  {
   "cell_type": "code",
   "execution_count": null,
   "id": "4db4e8f0-3b18-4f27-a730-70ff18de17b4",
   "metadata": {},
   "outputs": [],
   "source": [
    "y_pred"
   ]
  },
  {
   "cell_type": "code",
   "execution_count": null,
   "id": "e445e657-9fd7-4c32-87e3-d768be388e77",
   "metadata": {},
   "outputs": [],
   "source": [
    "y_test"
   ]
  },
  {
   "cell_type": "code",
   "execution_count": null,
   "id": "98f3a07d-2eef-4745-b1aa-e1562a6b9124",
   "metadata": {},
   "outputs": [],
   "source": [
    "from sklearn.metrics import classification_report, accuracy_score"
   ]
  },
  {
   "cell_type": "code",
   "execution_count": null,
   "id": "17bd1b0f-29ed-4c1d-8e7b-276df3379c4f",
   "metadata": {},
   "outputs": [],
   "source": [
    "# 모델 성능 평가\n",
    "print(\"Accuracy:\", accuracy_score(y_test, y_pred))\n",
    "print(\"Classification Report:\\n\", classification_report(y_test, y_pred))\n"
   ]
  },
  {
   "cell_type": "markdown",
   "id": "80b50503-ea22-441b-904e-5cd8ceeb83a5",
   "metadata": {},
   "source": [
    "> refer\n",
    "- https://firework-ham.tistory.com/27\n",
    "- https://mol-gga.tistory.com/27\n",
    "- https://velog.io/@hyesoup/KNN-K-Nearest-Neighbor-%EA%B0%9C%EB%85%90"
   ]
  },
  {
   "cell_type": "code",
   "execution_count": null,
   "id": "cd74176f-11c8-441d-8f56-c32f5b09a0ab",
   "metadata": {},
   "outputs": [],
   "source": []
  }
 ],
 "metadata": {
  "kernelspec": {
   "display_name": "Python 3 (ipykernel)",
   "language": "python",
   "name": "python3"
  },
  "language_info": {
   "codemirror_mode": {
    "name": "ipython",
    "version": 3
   },
   "file_extension": ".py",
   "mimetype": "text/x-python",
   "name": "python",
   "nbconvert_exporter": "python",
   "pygments_lexer": "ipython3",
   "version": "3.9.7"
  }
 },
 "nbformat": 4,
 "nbformat_minor": 5
}
