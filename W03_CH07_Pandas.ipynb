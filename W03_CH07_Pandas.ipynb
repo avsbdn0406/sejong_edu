{
 "cells": [
  {
   "cell_type": "markdown",
   "id": "311e06bf-a020-457f-8721-81b7c754ca40",
   "metadata": {},
   "source": [
    "# 07장 Pandas\n",
    "---\n",
    "- Dates : Aug 27, 2024  \n",
    "- Author : JaeEun Yoo\n",
    "---"
   ]
  },
  {
   "cell_type": "markdown",
   "id": "e55e871c-ef32-4536-9117-9b83de3fb495",
   "metadata": {},
   "source": [
    "## Pandas란?\n",
    "- 데이터 분석, 데이터 처리 등을 쉽게 하기 위해 만들어진 라이브러리\n",
    "- 수치형 테이블과 시계열 데이터를 조작하고 운영하기 위한 데이터를 제공\n",
    "- 판다스의 이름은 계량 경제학에서 사용되는 용어인 'PANel DAta'의 앞 글자를 따서 지어짐\n",
    "- R에서 사용되던 data.frame 구조를 본뜬 DataFrame이라는 구조를 사용\n",
    "- 여러 형태의 벡터 및 행렬연산과 나아가 여러 수학적인 기능들을 빠르고 간편하게 사용할 수 있는 기능들을 제공\n"
   ]
  },
  {
   "cell_type": "markdown",
   "id": "7e7f3fe8-d1cf-43c3-858b-b7ede93f6527",
   "metadata": {},
   "source": [
    "## Pandas의 자료 구조\n",
    "기본적으로 정의되는 자료구조인 Series와 Data Frame을 사용\n"
   ]
  },
  {
   "cell_type": "code",
   "execution_count": null,
   "id": "5b84bfce-4481-404f-a10f-64143f8a4bef",
   "metadata": {},
   "outputs": [],
   "source": [
    "import pandas as pd"
   ]
  },
  {
   "cell_type": "markdown",
   "id": "5773909a-1baf-45be-a2c0-b48eb9d4c987",
   "metadata": {},
   "source": [
    "## Series (1차원)"
   ]
  },
  {
   "cell_type": "code",
   "execution_count": null,
   "id": "90124f26-8804-4580-94f2-fdc680b42647",
   "metadata": {},
   "outputs": [],
   "source": [
    "# Series 정의하기\n",
    "obj = pd.Series([1, 3, 5, -7])\n",
    "# obj 출력\n",
    "obj"
   ]
  },
  {
   "cell_type": "code",
   "execution_count": null,
   "id": "bb7241da-39ac-4e45-93b6-20c4486324d1",
   "metadata": {},
   "outputs": [],
   "source": [
    "obj.values"
   ]
  },
  {
   "cell_type": "code",
   "execution_count": null,
   "id": "2c8a9172-3755-4dda-b338-8b891a662935",
   "metadata": {},
   "outputs": [],
   "source": [
    "obj.index"
   ]
  },
  {
   "cell_type": "code",
   "execution_count": null,
   "id": "87d1878f-79c0-44b9-b79d-f5edd5797c2a",
   "metadata": {},
   "outputs": [],
   "source": [
    "# Series의 자료형 확인하기\n",
    "obj.dtypes"
   ]
  },
  {
   "cell_type": "code",
   "execution_count": null,
   "id": "282779bc-d0dd-4533-8348-6c5dac2c7fad",
   "metadata": {},
   "outputs": [],
   "source": [
    "# dictionart형 배열을 Series data로 만들어보기\n",
    "# 자동으로 key값이 index가 됩니다\n",
    "dic_data = {'jeong':10, 'kim':20,'choi':30,'lee':40}\n",
    "obj3 = pd.Series(dic_data)\n",
    "obj3"
   ]
  },
  {
   "cell_type": "markdown",
   "id": "b1032a57-d4a0-4dff-9934-58964543db09",
   "metadata": {},
   "source": [
    "## Dataframe (2차원)"
   ]
  },
  {
   "cell_type": "code",
   "execution_count": null,
   "id": "1e1436e5-ee15-4b3b-8355-46bb243e93bb",
   "metadata": {},
   "outputs": [],
   "source": [
    "# Data Frame 정의하기\n",
    "data = {'name':['Jeong','Lee','Choi','Kim','Hong'],\n",
    "        'age':[21, 22, 23, 24, 25 ],\n",
    "        'stamp':[11.0, 12.0, 13.5, 14.5, 15]\n",
    "        }\n",
    "df = pd.DataFrame(data)\n",
    "# Data Frame을 사용하면 가독성이 좋은 행과 열의 구조를 가진 데이터로 변형됩니다.\n",
    "df"
   ]
  },
  {
   "cell_type": "code",
   "execution_count": null,
   "id": "65c4949c-71e5-49cf-86d3-9807500cbe44",
   "metadata": {},
   "outputs": [],
   "source": [
    "df.index"
   ]
  },
  {
   "cell_type": "code",
   "execution_count": null,
   "id": "5ba31af3-91ac-4497-8601-3bebe32f83ee",
   "metadata": {},
   "outputs": [],
   "source": [
    "df.columns"
   ]
  },
  {
   "cell_type": "code",
   "execution_count": null,
   "id": "432e7c61-59e9-4284-846d-a48ba0390fe6",
   "metadata": {},
   "outputs": [],
   "source": [
    "df.keys()"
   ]
  },
  {
   "cell_type": "code",
   "execution_count": null,
   "id": "a1377675-fc86-4b7d-92a5-4417245720df",
   "metadata": {},
   "outputs": [],
   "source": [
    "df.values"
   ]
  },
  {
   "cell_type": "markdown",
   "id": "fb039b01-4ff8-45b7-8b50-240c8bb2371a",
   "metadata": {},
   "source": [
    "---\n",
    "## Dataframe 다루기\n"
   ]
  },
  {
   "cell_type": "code",
   "execution_count": null,
   "id": "da15842d-6768-42d3-a256-0bd06c9c8978",
   "metadata": {},
   "outputs": [],
   "source": [
    "df2 = pd.DataFrame(data, columns=['age', 'stamp', 'name', 'class'],\n",
    "                   index=['one', 'two', 'three', 'four', 'five'])\n",
    "df2"
   ]
  },
  {
   "cell_type": "code",
   "execution_count": null,
   "id": "0bb5ec16-2c53-41e1-b879-e2112a96ed1b",
   "metadata": {},
   "outputs": [],
   "source": [
    "# 열을 선택하기\n",
    "df2['name']"
   ]
  },
  {
   "cell_type": "code",
   "execution_count": null,
   "id": "d62b965d-38f4-4aa0-91fa-095ed5d5f857",
   "metadata": {},
   "outputs": [],
   "source": [
    "df2.name"
   ]
  },
  {
   "cell_type": "code",
   "execution_count": null,
   "id": "56ecb23e-afb9-49d8-926b-0c60b81bca55",
   "metadata": {},
   "outputs": [],
   "source": [
    "df2[['name','age']]"
   ]
  },
  {
   "cell_type": "code",
   "execution_count": null,
   "id": "86037c62-036a-4471-b0b3-25abfd6ede38",
   "metadata": {},
   "outputs": [],
   "source": [
    "# 행을 선택하기\n",
    "df2.iloc[0]"
   ]
  },
  {
   "cell_type": "code",
   "execution_count": null,
   "id": "1bb9e762-cb7f-49cc-be99-cfe6dfee471c",
   "metadata": {},
   "outputs": [],
   "source": [
    "df2.loc['one']"
   ]
  },
  {
   "cell_type": "code",
   "execution_count": null,
   "id": "baec3126-4ace-42e8-a8aa-0160b279cffd",
   "metadata": {},
   "outputs": [],
   "source": [
    "df2['class'] = [0.5,1.0,2.1,3.5,4.5]"
   ]
  },
  {
   "cell_type": "code",
   "execution_count": null,
   "id": "c2bb14c3-75d0-460d-8e34-cebfe6169dbf",
   "metadata": {},
   "outputs": [],
   "source": [
    "df2"
   ]
  },
  {
   "cell_type": "code",
   "execution_count": null,
   "id": "9cd19596-ac40-4e25-8df1-2b13c0da16d5",
   "metadata": {},
   "outputs": [],
   "source": [
    "df2['test']=''"
   ]
  },
  {
   "cell_type": "code",
   "execution_count": null,
   "id": "368ffc6e-8a6e-4ab9-8e24-0266e741fd6a",
   "metadata": {},
   "outputs": [],
   "source": [
    "df2"
   ]
  },
  {
   "cell_type": "markdown",
   "id": "199859a2-e67d-4e38-9459-8635b08bbef8",
   "metadata": {},
   "source": [
    "---\n",
    "## 파일을 데이터프레임으로 읽어오기"
   ]
  },
  {
   "cell_type": "markdown",
   "id": "a9e9b653-b4a2-44d1-a890-acc56bbb229e",
   "metadata": {},
   "source": [
    "### Python 공식 인코딩 종류\n",
    "\n",
    "- **cp949**\n",
    "- euc-kr\n",
    "- utf-16\n",
    "- **utf-8**\n",
    "- ascii\n",
    "- profile\n"
   ]
  },
  {
   "cell_type": "code",
   "execution_count": null,
   "id": "374d42c2-dac0-416a-9807-64688777ed89",
   "metadata": {},
   "outputs": [],
   "source": [
    "df = pd.read_csv('./ASOS_지점정보_240624.csv',encoding='cp949')"
   ]
  },
  {
   "cell_type": "code",
   "execution_count": null,
   "id": "73acf84a-23c5-4863-8008-c218c41ae730",
   "metadata": {},
   "outputs": [],
   "source": [
    "df"
   ]
  },
  {
   "cell_type": "code",
   "execution_count": null,
   "id": "c898b119-5093-4910-885b-ef1efd2d232e",
   "metadata": {},
   "outputs": [],
   "source": [
    "df.keys()"
   ]
  },
  {
   "cell_type": "code",
   "execution_count": null,
   "id": "e540d3a9-44a1-42f8-bdf6-34dcd1e1f24e",
   "metadata": {},
   "outputs": [],
   "source": [
    "len(df)"
   ]
  },
  {
   "cell_type": "code",
   "execution_count": null,
   "id": "0d333cfd-1423-42b3-99f3-926eed866dad",
   "metadata": {},
   "outputs": [],
   "source": [
    "df.head()"
   ]
  },
  {
   "cell_type": "code",
   "execution_count": null,
   "id": "4955bfbc-d58f-4dd7-ba73-6ab80b4bd80c",
   "metadata": {},
   "outputs": [],
   "source": [
    "df.tail()"
   ]
  },
  {
   "cell_type": "markdown",
   "id": "8979f3f8-a207-40f2-aea5-b2691c2751d0",
   "metadata": {},
   "source": [
    "<img src='./figures/pandas_01.png'>"
   ]
  },
  {
   "cell_type": "code",
   "execution_count": null,
   "id": "ef345fd8-5555-4b7a-9415-4b866736aa30",
   "metadata": {},
   "outputs": [],
   "source": [
    "df[0]"
   ]
  },
  {
   "cell_type": "code",
   "execution_count": null,
   "id": "1fc16338-0eac-4a31-96e8-d2f90a7ca305",
   "metadata": {},
   "outputs": [],
   "source": [
    "df.iloc[0]"
   ]
  },
  {
   "cell_type": "code",
   "execution_count": null,
   "id": "5bdfb943-6127-418e-87e7-12534eaf5b40",
   "metadata": {},
   "outputs": [],
   "source": [
    "df.loc[11]"
   ]
  },
  {
   "cell_type": "markdown",
   "id": "393ab3a2-2f1e-44f7-bfbb-4ab57931f778",
   "metadata": {},
   "source": [
    "---\n",
    "## Dataframe 내의 데이터 다루기"
   ]
  },
  {
   "cell_type": "code",
   "execution_count": null,
   "id": "d6e17b07-8f55-467d-a9cd-66f8dd185397",
   "metadata": {},
   "outputs": [],
   "source": [
    "df.fillna(0)"
   ]
  },
  {
   "cell_type": "code",
   "execution_count": null,
   "id": "afc27d29-799a-43fc-862f-90e357dfcb1e",
   "metadata": {},
   "outputs": [],
   "source": [
    "df.dropna()"
   ]
  },
  {
   "cell_type": "code",
   "execution_count": null,
   "id": "171389d0-e459-4f6a-8eb3-02990b8db4c5",
   "metadata": {},
   "outputs": [],
   "source": [
    "df['지점']==99"
   ]
  },
  {
   "cell_type": "code",
   "execution_count": null,
   "id": "bf564189-be51-418c-abd1-13e3b30f4d36",
   "metadata": {},
   "outputs": [],
   "source": [
    "df[df['지점']==99]"
   ]
  },
  {
   "cell_type": "code",
   "execution_count": null,
   "id": "78a44b00-ee8d-449b-adb8-18ed6b78a3c5",
   "metadata": {},
   "outputs": [],
   "source": [
    "df.drop_duplicates(subset='지점')"
   ]
  },
  {
   "cell_type": "code",
   "execution_count": null,
   "id": "32140813-9b05-485d-82b7-dca3b67d0afe",
   "metadata": {},
   "outputs": [],
   "source": [
    "df.sum(axis=0)"
   ]
  },
  {
   "cell_type": "code",
   "execution_count": null,
   "id": "1d9d9d33-ac6a-47f8-8cf6-07732020df60",
   "metadata": {},
   "outputs": [],
   "source": [
    "df.sum(axis=1)"
   ]
  },
  {
   "cell_type": "code",
   "execution_count": null,
   "id": "d289fddf-936f-4641-8197-b6fb229770d6",
   "metadata": {},
   "outputs": [],
   "source": [
    "df.sort_index()"
   ]
  },
  {
   "cell_type": "code",
   "execution_count": null,
   "id": "2076030c-5436-48cd-9a50-067deb58b606",
   "metadata": {},
   "outputs": [],
   "source": [
    "df.sort_values(by='시작일')"
   ]
  },
  {
   "cell_type": "code",
   "execution_count": null,
   "id": "c10dcbae-a2cd-4548-b918-3ea14aabc608",
   "metadata": {},
   "outputs": [],
   "source": [
    "pd.concat([df,df2])"
   ]
  }
 ],
 "metadata": {
  "kernelspec": {
   "display_name": "Python 3 (ipykernel)",
   "language": "python",
   "name": "python3"
  },
  "language_info": {
   "codemirror_mode": {
    "name": "ipython",
    "version": 3
   },
   "file_extension": ".py",
   "mimetype": "text/x-python",
   "name": "python",
   "nbconvert_exporter": "python",
   "pygments_lexer": "ipython3",
   "version": "3.9.7"
  }
 },
 "nbformat": 4,
 "nbformat_minor": 5
}
