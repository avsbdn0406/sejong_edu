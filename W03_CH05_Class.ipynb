{
 "cells": [
  {
   "cell_type": "markdown",
   "id": "df34cbeb-4bf7-4d9e-8b33-201ce703f6ab",
   "metadata": {},
   "source": [
    "# 05장 Class (클래스)\n",
    "---\n",
    "- Dates : Aug 27, 2024  \n",
    "- Author : JaeEun Yoo\n",
    "---"
   ]
  },
  {
   "cell_type": "markdown",
   "id": "540cc517-fd5c-4c88-a3b2-9599c4b9fa4f",
   "metadata": {},
   "source": [
    "## 클래스란?\n",
    "-  고유의 속성(attribute)와 동작(method)를 갖는 데이터 타입\n"
   ]
  },
  {
   "cell_type": "markdown",
   "id": "6cc3f954-fdac-4fbf-9773-155bbe160f73",
   "metadata": {},
   "source": [
    "## 클래스는 왜 필요한가?"
   ]
  },
  {
   "cell_type": "code",
   "execution_count": null,
   "id": "81337871-32bc-4c74-955c-d67d809dee5d",
   "metadata": {},
   "outputs": [],
   "source": [
    "# calculator.py\n",
    "result = 0\n",
    "\n",
    "def add(num):\n",
    "    global result\n",
    "    result += num  # 결괏값(result)에 입력값(num) 더하기\n",
    "    return result  # 결괏값 리턴\n",
    "\n",
    "print(add(3))\n",
    "print(add(4))"
   ]
  },
  {
   "cell_type": "markdown",
   "id": "d5eea33e-5d6c-4f48-84ab-09f5f50c12f2",
   "metadata": {},
   "source": [
    "그런데 만일 한 프로그램에서 2대의 계산기가 필요한 상황이 발생하면 어떻게 해야 할까? \n",
    "각 계산기는 각각의 결괏값을 유지해야 하므로 위와 같이 add 함수 하나만으로는 결괏값을 따로 유지할 수 없다.\n",
    "\n",
    "이런 상황을 해결하려면 다음과 같이 함수를 각각 따로 만들어야 한다."
   ]
  },
  {
   "cell_type": "code",
   "execution_count": null,
   "id": "d92287f8-b48f-4b1b-bd7b-a0e443962eb0",
   "metadata": {},
   "outputs": [],
   "source": [
    "# calculator2.py\n",
    "result1 = 0\n",
    "result2 = 0\n",
    "\n",
    "def add1(num):  # 계산기1\n",
    "    global result1\n",
    "    result1 += num\n",
    "    return result1\n",
    "\n",
    "def add2(num):  # 계산기2\n",
    "    global result2\n",
    "    result2 += num\n",
    "    return result2\n",
    "\n",
    "print(add1(3))\n",
    "print(add1(4))\n",
    "print(add2(3))\n",
    "print(add2(7))\n"
   ]
  },
  {
   "cell_type": "markdown",
   "id": "6cac86a5-76b2-40b0-8599-f3a0181d44f5",
   "metadata": {},
   "source": [
    "### 만약 클래스를 활용한다면?"
   ]
  },
  {
   "cell_type": "code",
   "execution_count": null,
   "id": "b825eceb-aa33-4ba7-ad5b-a0eca7394842",
   "metadata": {},
   "outputs": [],
   "source": [
    "# calculator3.py\n",
    "class Calculator:\n",
    "    def __init__(self):\n",
    "        self.result = 0\n",
    "\n",
    "    def add(self, num):\n",
    "        self.result += num\n",
    "        return self.result\n",
    "\n",
    "cal1 = Calculator()\n",
    "cal2 = Calculator()\n",
    "\n",
    "print(cal1.add(3))\n",
    "print(cal1.add(4))\n",
    "print(cal2.add(3))\n",
    "print(cal2.add(7))"
   ]
  },
  {
   "cell_type": "markdown",
   "id": "457536fe-4ecc-4158-9a1e-1ebe2ea553c7",
   "metadata": {},
   "source": [
    "- Calculator 클래스로 만든 별개의 계산기 cal1, cal2(파이썬에서는 이것을 ‘객체’라고 부른다)가 각각의 역할을 수행\n",
    "- 계산기의 결괏값 역시 다른 계산기의 결괏값과 상관없이 독립적인 값을 유지\n",
    "- 클래스를 사용하면 **계산기 대수가 늘어나도 객체를 생성하면 되므로** 함수만 사용할 때보다 간단하게 프로그램을 작성할 수 있음\n",
    "- 빼기 기능을 더하고 싶다면 Calculator 클래스에 다음과 같이 빼기 기능을 가진 함수를 추가하면 됨"
   ]
  },
  {
   "cell_type": "code",
   "execution_count": null,
   "id": "7bd30eb2-ab0d-4168-9d01-b76cafede055",
   "metadata": {},
   "outputs": [],
   "source": [
    "class Calculator:\n",
    "    def __init__(self):\n",
    "        self.result = 0\n",
    "\n",
    "    def add(self, num):\n",
    "        self.result += num\n",
    "        return self.result\n",
    "\n",
    "    def sub(self, num):\n",
    "        self.result -= num\n",
    "        return self.result"
   ]
  },
  {
   "cell_type": "markdown",
   "id": "55ffe5f9-6037-46db-be74-2781eef15f70",
   "metadata": {},
   "source": [
    "---\n",
    "## 클래스 이해하기"
   ]
  },
  {
   "cell_type": "markdown",
   "id": "5d8b9fae-9c33-4735-b24d-a4107194e675",
   "metadata": {},
   "source": [
    "![class 01](./figures/class_02.png)"
   ]
  },
  {
   "cell_type": "markdown",
   "id": "2a27f641-2442-41eb-8467-588e4d8103ad",
   "metadata": {},
   "source": [
    "- 과자 틀 = 클래스 (Class)\n",
    "- 과자 틀로 찍어 낸 과자 = 객체 (Object)\n",
    "  "
   ]
  },
  {
   "cell_type": "markdown",
   "id": "f1d09feb-4733-4945-9398-4f59de90aac8",
   "metadata": {},
   "source": [
    "- 클래스(class)란 똑같은 무언가를 계속 만들어 낼 수 있는 설계 도면(과자 틀)\n",
    "- 객체(object)란 클래스로 만든 피조물(과자 틀로 찍어 낸 과자)\n"
   ]
  },
  {
   "cell_type": "markdown",
   "id": "8ee32379-a2b0-4e3d-b967-f218703fc902",
   "metadata": {},
   "source": [
    "- 클래스로 만든 객체는 **객체마다 고유한 성격을 가짐!**\n",
    "- 과자 틀로 만든 과자에 구멍을 뚫거나 조금 베어 먹더라도 다른 과자에는 아무런 영향이 없는 것과 마찬가지로, 동일한 클래스로 만든 객체들은 서로 전혀 영향을 주지 않음\n",
    "\n"
   ]
  },
  {
   "cell_type": "code",
   "execution_count": null,
   "id": "ae4e1463-0920-4b66-80fd-65e5ac84351a",
   "metadata": {},
   "outputs": [],
   "source": [
    "class Cookie:\n",
    "...     pass\n",
    "...\n"
   ]
  },
  {
   "cell_type": "code",
   "execution_count": null,
   "id": "f8cbb4f7-d41c-4193-94a6-4b6e75e76766",
   "metadata": {},
   "outputs": [],
   "source": [
    "a = Cookie()\n",
    "b = Cookie()"
   ]
  },
  {
   "cell_type": "markdown",
   "id": "9c7169bd-1903-4dde-a54c-19ae92356e4f",
   "metadata": {},
   "source": [
    "> ### 객체와 인스턴스의 차이\n",
    "클래스로 만든 객체를 ‘인스턴스’라고도 한다. 그렇다면 객체와 인스턴스의 차이는 무엇일까?  \n",
    "a = Cookie()로 만든 a는 객체이다. 그리고 a 객체는 Cookie의 인스턴스이다.  \n",
    "즉, **인스턴스**라는 말은 특정 객체(a)가 어떤 클래스(Cookie)의 객체인지를 관계 위주로 설명할 때 사용한다.  \n",
    "‘a는 인스턴스’보다 ‘a는 객체’라는 표현이 어울리며 ‘a는 Cookie의 객체’보다 ‘a는 Cookie의 인스턴스’라는 표현이 훨씬 잘 어울린다."
   ]
  },
  {
   "cell_type": "markdown",
   "id": "30ade354-f4c3-46c9-89c6-36a9d33f9cde",
   "metadata": {},
   "source": [
    "## 클래스의 속성(attribute)과 메서드(method)란?\n",
    "-  클래스를 구성하는 속성과 메서드\n"
   ]
  },
  {
   "cell_type": "markdown",
   "id": "907dc0ac-49c4-4328-a550-fc1023fead9e",
   "metadata": {},
   "source": [
    "![class 01](./figures/class_01.png)"
   ]
  },
  {
   "cell_type": "markdown",
   "id": "911d27c8-70bd-4d53-84ef-f27583318ffa",
   "metadata": {},
   "source": [
    "체력, 마나, 물리 공격력, 주문력 등의 데이터를 클래스의 속성(attribute)이라 부르고,  \n",
    "베기, 찌르기 등의 기능을 메서드(method)라고 부름"
   ]
  },
  {
   "cell_type": "markdown",
   "id": "e82d29d4-8133-43b5-a6f5-d0b21da364a1",
   "metadata": {},
   "source": [
    "### 메서드 생성"
   ]
  },
  {
   "cell_type": "code",
   "execution_count": null,
   "id": "32a78d4f-74d4-449b-b29c-6558e2092b65",
   "metadata": {},
   "outputs": [],
   "source": [
    "# 클래스 생성\n",
    "class Hello:\n",
    "\n",
    "# 메소드 생성\n",
    "    def greeting(self):\n",
    "        print('Hello, World!')\n"
   ]
  },
  {
   "cell_type": "code",
   "execution_count": null,
   "id": "05e7f548-d4ea-4048-97fb-541d42a6226f",
   "metadata": {},
   "outputs": [],
   "source": [
    "# 인스턴스 생성\n",
    "a = Hello()\n",
    "\n",
    "# 메소드 호출\n",
    "a.greeting()\n"
   ]
  },
  {
   "cell_type": "markdown",
   "id": "cd2f5047-9f1c-420a-9615-e89b35319e6a",
   "metadata": {},
   "source": [
    "### 속성 생성"
   ]
  },
  {
   "cell_type": "code",
   "execution_count": null,
   "id": "bbe591fa-36d0-4755-919d-2303cdf871a5",
   "metadata": {},
   "outputs": [],
   "source": [
    "# 클래스 선언\n",
    "class Member:\n",
    "\n",
    "    # 속성 생성\n",
    "    def __init__(self, name, age, address):\n",
    "        self.name = name\n",
    "        self.age = age\n",
    "        self.address = address\n",
    "\n",
    "    # 메소드 생성\n",
    "    def info(self):\n",
    "        print('저의 이름은 {0}이고, 나이는 {1}, 사는 곳은 {2} 입니다'.format(self.name, self.age, self.address))"
   ]
  },
  {
   "cell_type": "code",
   "execution_count": null,
   "id": "dd77dc44-c202-4268-a0ad-e39562bc3726",
   "metadata": {},
   "outputs": [],
   "source": [
    "# Member의 introduce 인스턴스 생성\n",
    "mem_01 = Member('jaeeun', 30, '인천광역시')\n",
    "\n",
    "# introduce 인스턴스의 info 메소드 호출\n",
    "mem_01.info()"
   ]
  },
  {
   "cell_type": "markdown",
   "id": "cb5afdda-6700-47a0-bfec-3903958c38bf",
   "metadata": {},
   "source": [
    "### init?"
   ]
  },
  {
   "cell_type": "markdown",
   "id": "c4f6b7b5-53d7-46ed-be11-e036349606cb",
   "metadata": {},
   "source": [
    "- 객체에 name, age와 같은 초깃값을 설정해야 할 필요가 있을 때는 **생성자를 구현**하는 것이 안전한 방법  \n",
    "* 생성자(constructor)란?\n",
    "   * 객체가 생성될 때 자동으로 호출되는 메서드\n",
    "   * 파이썬 메서드명으로 __init__를 사용\n"
   ]
  },
  {
   "cell_type": "code",
   "execution_count": null,
   "id": "88dcd3a2-1794-4fdc-9efe-31766535c608",
   "metadata": {},
   "outputs": [],
   "source": [
    "mem_02 = Member('Gildong',13,'서울특별시')\n",
    "mem_02.info()"
   ]
  },
  {
   "cell_type": "markdown",
   "id": "9f5ddbde-8ee9-4e95-86fc-5c6fff6e43ed",
   "metadata": {},
   "source": [
    "### 인스턴스 속성 VS 클래스 속성"
   ]
  },
  {
   "cell_type": "markdown",
   "id": "4620e3ef-ea81-4b18-98b7-9f2bbac82625",
   "metadata": {},
   "source": [
    "* 인스턴스 속성\n",
    "   * __init__ 이나 각각의 메소드에서 self 사용한 속성\n",
    "   * 인스턴스 속성은 인스턴스별로 각자 다른 값은 가짐\n",
    "   * 인스턴스 속성의 특징은 self.속성을 사용함"
   ]
  },
  {
   "cell_type": "code",
   "execution_count": null,
   "id": "dec0453a-5dc9-4588-b3b7-eeecdaece60b",
   "metadata": {},
   "outputs": [],
   "source": [
    "class Member:\n",
    "    value = 10\n",
    "\n",
    "    def info(self, name, age, address):\n",
    "        self.name = name\n",
    "        self.age = age\n",
    "        self.address = address\n",
    "        print('저의 이름은 {0}이고, 나이는 {1}, 사는 곳은 {2} 입니다'.format(self.name, self.age, self.address))\n",
    "        print('클래스 인스턴스 {}'.format(Member.value))\n",
    "\n",
    "    def info2(self, name, age, address):\n",
    "        self.name = name\n",
    "        self.age = age\n",
    "        self.address = address\n",
    "        print('저의 이름은 {0}이고, 나이는 {1}, 사는 곳은 {2} 입니다'.format(self.name, self.age, self.address))\n",
    "        print('클래스 인스턴스 {}'.format(Member.value))\n"
   ]
  },
  {
   "cell_type": "code",
   "execution_count": null,
   "id": "d52a5e26-8de8-4c7a-9209-d3dfae94d5bb",
   "metadata": {},
   "outputs": [],
   "source": [
    "introduce = Member()\n",
    "\n",
    "introduce.info('nirsa', 80, '인천광역시')\n",
    "introduce.info2('alpha', 68, '서울특별시')\n",
    "\n"
   ]
  },
  {
   "cell_type": "markdown",
   "id": "676530f5-ea0a-4c58-9b0b-7bd9d3b8c346",
   "metadata": {},
   "source": [
    "* 클래스 속성\n",
    "   * 클래스 속성은 모든 인스턴스에서 공유할 수 있음\n",
    "   * 값을 공유 하며 각각의 인스턴스에서 클래스 속성을 공유"
   ]
  },
  {
   "cell_type": "code",
   "execution_count": null,
   "id": "739a494a-cb29-4a3d-bc24-3e0870dba28c",
   "metadata": {},
   "outputs": [],
   "source": [
    "class Member:\n",
    "    value = []\n",
    "\n",
    "    def info(self, name, age, address):\n",
    "        self.name = name\n",
    "        self.age = age\n",
    "        self.address = address\n",
    "        print('저의 이름은 {0}이고, 나이는 {1}, 사는 곳은 {2} 입니다'.format(self.name, self.age, self.address))\n",
    "\n",
    "        Member.value.append(age)\n",
    "        print('클래스 속성 {}'.format(Member.value))\n",
    "\n",
    "    def info2(self, name, age, address):\n",
    "        self.name = name\n",
    "        self.age = age\n",
    "        self.address = address\n",
    "        print('저의 이름은 {0}이고, 나이는 {1}, 사는 곳은 {2} 입니다'.format(self.name, self.age, self.address))\n",
    "\n",
    "        Member.value.append(age)\n",
    "        print('클래스 속성 {}'.format(Member.value))\n"
   ]
  },
  {
   "cell_type": "code",
   "execution_count": null,
   "id": "c95ff9ad-959f-40ea-8e7a-b7334b2de18e",
   "metadata": {},
   "outputs": [],
   "source": [
    "mem01 = Member()\n",
    "\n",
    "mem01.info('nirsa', 80, '인천광역시')\n",
    "mem01.info2('alpha', 68, '서울특별시')\n"
   ]
  },
  {
   "cell_type": "markdown",
   "id": "b3815167-abeb-4666-82b1-998fb0bb5cd3",
   "metadata": {},
   "source": [
    "### self?\n",
    "- 파이썬의 메소드는 항상 첫 번째 인자로 self를 전달\n",
    "- self는 해당 메소드가 호출하는 객체 자기자신을 가리킴\n",
    "- 이름이 반드시 self일 필요는 없지만, 관례적으로 self를 사용"
   ]
  },
  {
   "cell_type": "markdown",
   "id": "8b6f9d1d-db69-4d41-8a15-9226f6cc4717",
   "metadata": {},
   "source": [
    "![class 01](./figures/class_04.png)"
   ]
  },
  {
   "cell_type": "markdown",
   "id": "acb4f1fe-57e5-4f53-8e9c-947bd6df6f99",
   "metadata": {},
   "source": [
    "setdata 메서드의 첫 번째 매개변수 self에는 setdata 메서드를 호출한 객체 a가 자동으로 전달"
   ]
  },
  {
   "cell_type": "markdown",
   "id": "66c21361-57b7-432f-98d4-734287449285",
   "metadata": {},
   "source": [
    "---\n",
    "## 사칙연산 클래스 만들어보기"
   ]
  },
  {
   "cell_type": "markdown",
   "id": "f0426e4a-2f81-4500-8b62-94ca6f2cbaa9",
   "metadata": {},
   "source": [
    "![class 01](./figures/class_03.png)"
   ]
  },
  {
   "cell_type": "code",
   "execution_count": null,
   "id": "7217b217-f7e8-4f86-9de4-7225cdb749ae",
   "metadata": {},
   "outputs": [],
   "source": [
    "class FourCal:"
   ]
  },
  {
   "cell_type": "markdown",
   "id": "898c4e42-f285-4ac6-ad98-b78c2b097244",
   "metadata": {},
   "source": [
    "### 객체에 연산할 숫자 지정하기"
   ]
  },
  {
   "cell_type": "code",
   "execution_count": null,
   "id": "c3e600d2-b8ae-44d7-b519-f687601e033b",
   "metadata": {},
   "outputs": [],
   "source": [
    "class FourCal:\n",
    "    def setdata(self, first, second):\n",
    "        self.first = first\n",
    "        self.second = second\n"
   ]
  },
  {
   "cell_type": "code",
   "execution_count": null,
   "id": "59819a1d-07da-434d-951f-79f5afb0d26b",
   "metadata": {},
   "outputs": [],
   "source": [
    "a = FourCal()"
   ]
  },
  {
   "cell_type": "code",
   "execution_count": null,
   "id": "a09cc622-591c-4054-aa15-5c411f56fc29",
   "metadata": {},
   "outputs": [],
   "source": [
    "a.setdata(4, 2)"
   ]
  },
  {
   "cell_type": "markdown",
   "id": "af0b7deb-2cb1-41c8-b50c-7ad16a28cccf",
   "metadata": {},
   "source": [
    "### 객체의 변수에 접근"
   ]
  },
  {
   "cell_type": "code",
   "execution_count": null,
   "id": "0809cd8f-0493-4e80-a314-c5f1c81cc717",
   "metadata": {
    "scrolled": true
   },
   "outputs": [],
   "source": [
    "a.first"
   ]
  },
  {
   "cell_type": "code",
   "execution_count": null,
   "id": "912fa4df-9b1c-45c9-9c5c-0719900b6e44",
   "metadata": {},
   "outputs": [],
   "source": [
    "a.second"
   ]
  },
  {
   "cell_type": "markdown",
   "id": "29711b12-0ee4-4cf0-99ae-392d77c34bdb",
   "metadata": {},
   "source": [
    "### 더하기 기능 만들기"
   ]
  },
  {
   "cell_type": "code",
   "execution_count": null,
   "id": "713d8308-488e-45fb-a26a-badf76ddff9f",
   "metadata": {},
   "outputs": [],
   "source": [
    "class FourCal:\n",
    "    def setdata(self, first, second):\n",
    "        self.first = first\n",
    "        self.second = second\n",
    "\n",
    "    def add(self):\n",
    "        result = self.first + self.second\n",
    "        return result\n",
    "\n"
   ]
  },
  {
   "cell_type": "code",
   "execution_count": null,
   "id": "fedccf27-6008-4d27-b8df-a634482a50cd",
   "metadata": {},
   "outputs": [],
   "source": [
    "a = FourCal()\n",
    "a.setdata(4, 2)\n",
    "a.add()"
   ]
  },
  {
   "cell_type": "code",
   "execution_count": null,
   "id": "460525e5-6e5f-4ab0-8801-1dc17ea3a16d",
   "metadata": {},
   "outputs": [],
   "source": [
    "class FourCal:\n",
    "    def __init__(self, first, second):\n",
    "        self.first = first\n",
    "        self.second = second\n",
    "\n",
    "    def add(self):\n",
    "        result = self.first + self.second\n",
    "        return result\n",
    "\n",
    "    def mul(self):\n",
    "        result = self.first * self.second\n",
    "        return result\n",
    "\n",
    "    def sub(self):\n",
    "        result = self.first - self.second\n",
    "        return result\n",
    "        \n",
    "    def div(self):\n",
    "        result = self.first / self.second\n",
    "        return result\n"
   ]
  },
  {
   "cell_type": "code",
   "execution_count": null,
   "id": "053e98a7-0168-49af-96b8-8ed8d10a1683",
   "metadata": {},
   "outputs": [],
   "source": [
    "a = FourCal(4,2)\n",
    "a.mul()"
   ]
  },
  {
   "cell_type": "code",
   "execution_count": null,
   "id": "ea542e79-494e-40d7-9cb8-3da45be97a30",
   "metadata": {},
   "outputs": [],
   "source": [
    "a.sub()"
   ]
  },
  {
   "cell_type": "code",
   "execution_count": null,
   "id": "039d33d6-d32a-46cd-b1f6-8d75e2ac8bbc",
   "metadata": {},
   "outputs": [],
   "source": [
    "a.div()"
   ]
  },
  {
   "cell_type": "code",
   "execution_count": null,
   "id": "ae208521-3be6-46cf-82d7-6816d46f278a",
   "metadata": {},
   "outputs": [],
   "source": [
    "b = FourCal(5,7)"
   ]
  },
  {
   "cell_type": "code",
   "execution_count": null,
   "id": "591ea8bf-092f-4cf4-84f3-65b7a99ff36c",
   "metadata": {
    "scrolled": true
   },
   "outputs": [],
   "source": [
    "b.add()"
   ]
  },
  {
   "cell_type": "code",
   "execution_count": null,
   "id": "062f385d-01ea-4d74-bc71-d5f43b47125f",
   "metadata": {},
   "outputs": [],
   "source": [
    "b.mul()"
   ]
  },
  {
   "cell_type": "code",
   "execution_count": null,
   "id": "6b1e6885-9f01-4793-aab5-291d8130438b",
   "metadata": {},
   "outputs": [],
   "source": [
    "b.sub()"
   ]
  },
  {
   "cell_type": "code",
   "execution_count": null,
   "id": "55c1e5d3-be47-4aaa-801b-7f8a5fbc1fbf",
   "metadata": {},
   "outputs": [],
   "source": [
    "b.div()"
   ]
  },
  {
   "cell_type": "code",
   "execution_count": null,
   "id": "646af3aa-2187-4a22-8d1b-cb686a7c1058",
   "metadata": {},
   "outputs": [],
   "source": [
    "a.add()"
   ]
  },
  {
   "cell_type": "markdown",
   "id": "5355135a-14eb-4f51-89a4-2e885629fe0b",
   "metadata": {},
   "source": [
    "### 비공개 속성"
   ]
  },
  {
   "cell_type": "markdown",
   "id": "c0aa31d5-7fec-42c2-be3c-07bee8d7e8fc",
   "metadata": {},
   "source": [
    "- 비공개 속성은 함부로 변경을 시도해서는 안될 때 사용\n",
    "- 클래스의 메소드 안에서만 변경할 수 있음\n",
    "- 기본 속성은 self.속성값 이였다면 비공개 속성은 self.__속성값과 같이 앞에 __ 로 시작\n"
   ]
  },
  {
   "cell_type": "code",
   "execution_count": null,
   "id": "fc5d50ff-bd8e-4eba-8acb-d2d50989f796",
   "metadata": {},
   "outputs": [],
   "source": [
    "class Back_book:\n",
    "    def __init__(self, money):\n",
    "        self.__money = money\n",
    "        \n",
    "    def deposit(self, plus):\n",
    "        self.__money += plus\n",
    "        print('입금 후 총 통장 금액은 {0}원 입니다.'.format(self.__money))\n",
    "        "
   ]
  },
  {
   "cell_type": "code",
   "execution_count": null,
   "id": "7fd49bff-3399-4afe-acb5-b7cb8232204a",
   "metadata": {},
   "outputs": [],
   "source": [
    "book1 = Back_book(100000)\n",
    "book1.deposit(50000)\n",
    "\n",
    "book1.money += 50000\n",
    "book1.deposit(0)"
   ]
  },
  {
   "cell_type": "markdown",
   "id": "ddd542e2-a0b6-4aeb-9ad1-8f4bd56fa06b",
   "metadata": {},
   "source": [
    "---\n",
    "## 상속 (Inheritance)"
   ]
  },
  {
   "cell_type": "markdown",
   "id": "3852e604-636f-42ea-8024-4526a36a1703",
   "metadata": {},
   "source": [
    "* **상속(Inheritance)**\n",
    "   * ‘물려받다’라는 뜻으로, ‘재산을 상속받다’라고 할 때의 상속과 같은 의미\n",
    "   *  어떤 클래스를 만들 때 다른 클래스의 기능을 물려받을 수 있게 생성 가능\n"
   ]
  },
  {
   "cell_type": "code",
   "execution_count": null,
   "id": "e30dadaa-6cf0-4a6c-a864-f7d8fc25f023",
   "metadata": {},
   "outputs": [],
   "source": [
    "class MoreFourCal(FourCal):\n",
    "    pass"
   ]
  },
  {
   "cell_type": "code",
   "execution_count": null,
   "id": "62759b25-f720-45c0-895e-c91514502d2b",
   "metadata": {},
   "outputs": [],
   "source": [
    "cal_inh = MoreFourCal()"
   ]
  },
  {
   "cell_type": "code",
   "execution_count": null,
   "id": "c31fddf8-6d9c-4611-8038-e9034f3fabbc",
   "metadata": {},
   "outputs": [],
   "source": [
    "cal_inh.setdata(10,11)"
   ]
  },
  {
   "cell_type": "code",
   "execution_count": null,
   "id": "ad80098c-e306-4c10-b311-b9524f53f68a",
   "metadata": {},
   "outputs": [],
   "source": [
    "cal_inh.add()"
   ]
  },
  {
   "cell_type": "code",
   "execution_count": null,
   "id": "51e99f3f-0efa-4b2d-b34a-78d8e8083bea",
   "metadata": {},
   "outputs": [],
   "source": [
    "cal_inh.mul()"
   ]
  },
  {
   "cell_type": "markdown",
   "id": "3f5112cb-c2f7-4f48-ae58-db008d74984e",
   "metadata": {},
   "source": [
    "### MoreFourCal 클래스에 N진수를 반환하는 메소드를 추가"
   ]
  },
  {
   "cell_type": "code",
   "execution_count": null,
   "id": "13ee58ae-b0fe-461e-b19e-0ec391746e9d",
   "metadata": {},
   "outputs": [],
   "source": [
    "class MoreFourCal(FourCal):\n",
    "    def pow(self):\n",
    "        result = self.first ** self.second\n",
    "        return result"
   ]
  },
  {
   "cell_type": "code",
   "execution_count": null,
   "id": "ccdc4102-3f3e-48b9-959f-6ded4303f943",
   "metadata": {},
   "outputs": [],
   "source": [
    "cal_inh = MoreFourCal(4,2)"
   ]
  },
  {
   "cell_type": "code",
   "execution_count": null,
   "id": "b640e576-1868-40c5-a8f1-13029fc2f1c4",
   "metadata": {},
   "outputs": [],
   "source": [
    "cal_inh.add()"
   ]
  },
  {
   "cell_type": "code",
   "execution_count": null,
   "id": "8473394c-c055-4ed3-8a48-0a06fc8af516",
   "metadata": {},
   "outputs": [],
   "source": [
    "cal_inh.pow()"
   ]
  },
  {
   "cell_type": "markdown",
   "id": "0d45ab34-915f-481c-a013-76ffeba362cd",
   "metadata": {},
   "source": [
    "\n",
    "### 메서드 오버라이딩"
   ]
  },
  {
   "cell_type": "code",
   "execution_count": null,
   "id": "dfb72ae3-d32c-489b-a2f8-db2eeaa97143",
   "metadata": {},
   "outputs": [],
   "source": [
    "cal_inh = MoreFourCal(4,0)"
   ]
  },
  {
   "cell_type": "code",
   "execution_count": null,
   "id": "ee401ddf-8c6c-4f44-a7a8-1f59c43eb786",
   "metadata": {},
   "outputs": [],
   "source": [
    "cal_inh.div()"
   ]
  },
  {
   "cell_type": "markdown",
   "id": "2d1dd6a4-a3bd-4221-9068-6828202a8df9",
   "metadata": {},
   "source": [
    "0으로 나눌 때 오류가 아닌 값 0을 리턴받고 싶다면 어떻게 해야 할까?"
   ]
  },
  {
   "cell_type": "code",
   "execution_count": null,
   "id": "b8cbd10c-bb8d-45e4-a560-1e5f2e6d800a",
   "metadata": {},
   "outputs": [],
   "source": [
    "class SafeFourCal(FourCal):\n",
    "    def div(self):\n",
    "        if self.second == 0:  # 나누는 값이 0인 경우 0을 리턴하도록 수정\n",
    "            return 0\n",
    "        else:\n",
    "            return self.first / self.second"
   ]
  },
  {
   "cell_type": "markdown",
   "id": "00b8aa03-417f-4ff9-b361-a47cb23e23c4",
   "metadata": {},
   "source": [
    "- FourCal 클래스에 있는 div 메서드를 동일한 이름으로 다시 작성\n",
    "- 부모 클래스(상속한 클래스)에 있는 메서드를 동일한 이름으로 다시 만드는 것을 **메서드 오버라이딩(method overriding)**\n",
    "- 부모 클래스의 메서드 대신 오버라이딩한 메서드가 호출됨\n",
    "- SafeFourCal 클래스에 오버라이딩한 div 메서드는 나누는 값이 0인 경우에는 0을 리턴하도록 수정"
   ]
  },
  {
   "cell_type": "code",
   "execution_count": null,
   "id": "0c26710c-8e79-41be-991d-21975f2a5f47",
   "metadata": {},
   "outputs": [],
   "source": [
    "a = SafeFourCal(4, 0)\n",
    "a.div()"
   ]
  },
  {
   "cell_type": "markdown",
   "id": "7881eec3-6dd1-456c-95e2-6c9db766e2b2",
   "metadata": {},
   "source": [
    "--------------\n",
    "## <Question 01>\n",
    "> **「\"학생 클래스를 생성하세요.\"」**  \n",
    "\n",
    "**01)** 이름, 학교, 학년은 클래스 생성 시 입력받아 객체를 생성합니다.  \n",
    "**02)** 이름, 학교, 학년을 출력하는 메서드가 필요합니다.\n",
    "**03)** 학년을 변경할 수 있는 메서드가 필요합니다.  \n",
    "  "
   ]
  },
  {
   "cell_type": "code",
   "execution_count": null,
   "id": "3b26debf-ca33-468f-9218-ed4eea7a0355",
   "metadata": {},
   "outputs": [],
   "source": [
    "class Student:\n",
    "    def __init__(self, name, school, grade):\n",
    "        self.name = name\n",
    "        self.school = school\n",
    "        self.grade = grade\n",
    "\n",
    "    def getInfo(self):\n",
    "        print('저의 이름은 {0}이고, 학교는 {1}, 학년은 {2} 입니다'.format(self.name, self.school, self.grade))\n",
    "\n",
    "    def setGrade(self, ch_grade):\n",
    "        self.grade = ch_grade\n",
    "\n"
   ]
  },
  {
   "cell_type": "markdown",
   "id": "2b5c60d3-3804-4ae9-a97c-e5963c393246",
   "metadata": {},
   "source": [
    "--------------\n",
    "## <Question 02>\n",
    "> **「\"학생 클래스를 상속받아 선생님 클래스 생성하세요.\"」**  \n",
    "\n",
    "**01)** 클래스명은 Teacher입니다.  \n",
    "**02)** \b강좌명을 입력받는 메서드가 필요합니다.  \n",
    "**03)** 정보 출력(이름, 학교, 학년) 메서드를 오버라이딩하여 강좌명을 출력하세요.\n",
    "  "
   ]
  },
  {
   "cell_type": "code",
   "execution_count": null,
   "id": "96df4403-7d48-44c6-8790-64bb2a08e260",
   "metadata": {},
   "outputs": [],
   "source": [
    "class Teacher(Student):\n",
    "    def setCls(self,clss):\n",
    "        self.cls = clss\n",
    "\n",
    "    def getInfo(self):\n",
    "        print('저의 이름은 {0}이고, 학교는 {1}, 학년은 {2}, 담당중인 강좌는 {3} 입니다'.format(self.name, self.school, self.grade, self.cls))\n",
    "\n",
    "\n"
   ]
  },
  {
   "cell_type": "code",
   "execution_count": null,
   "id": "3d3b39eb-bcc6-4818-89c6-5752ef471654",
   "metadata": {},
   "outputs": [],
   "source": []
  }
 ],
 "metadata": {
  "kernelspec": {
   "display_name": "Python 3 (ipykernel)",
   "language": "python",
   "name": "python3"
  },
  "language_info": {
   "codemirror_mode": {
    "name": "ipython",
    "version": 3
   },
   "file_extension": ".py",
   "mimetype": "text/x-python",
   "name": "python",
   "nbconvert_exporter": "python",
   "pygments_lexer": "ipython3",
   "version": "3.9.7"
  }
 },
 "nbformat": 4,
 "nbformat_minor": 5
}
