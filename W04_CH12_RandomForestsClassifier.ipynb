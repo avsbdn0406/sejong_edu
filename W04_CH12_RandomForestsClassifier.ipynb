{
 "cells": [
  {
   "cell_type": "markdown",
   "id": "311e06bf-a020-457f-8721-81b7c754ca40",
   "metadata": {},
   "source": [
    "# 12장 Random Forests Classifier (랜덤 포레스트)\n",
    "---\n",
    "- Dates : Sep 04, 2024  \n",
    "- Author : JaeEun Yoo\n",
    "---"
   ]
  },
  {
   "cell_type": "markdown",
   "id": "e55e871c-ef32-4536-9117-9b83de3fb495",
   "metadata": {},
   "source": [
    "## 랜덤 포레스트란?\n",
    "- 앙상블(Ensemble) 학습 방법 중 하나로, 여러 개의 Decision tree를 조합하여 만든 알고리즘\n",
    "- 앙상블 학습 : 여러 개의 기본 학습 모델을 조합하여 더 강력한 모델을 만드는 기법\n",
    "- 분류 및 회귀 문제에 모두 사용 가능함\n"
   ]
  },
  {
   "cell_type": "markdown",
   "id": "61ea1517-0912-4d1c-a5e8-987849f7085d",
   "metadata": {},
   "source": [
    "### 앙상블(Ensemble) 학습의 주요 기법들\n",
    "#### 1. 보팅(Voting)  \n",
    "- 여러 개의 다른 종류의 기본 모델들의 예측을 결합하는 가장 간단한 형태의 앙상블 학습 (같은 데이터를 다른 모델들로 예측)\n",
    "- 하드 보팅(Hard Voting): 각 모델의 예측 결과를 투표로 취합하여 **가장 많은 표**를 얻은 결과를 최종 예측값으로 사용\n",
    "- 소프트 보팅(Soft Voting): 각 모델의 예측 확률을 **평균내어, 가장 높은 확률**을 가진 결과를 최종 예측값으로 사용\n",
    "\n",
    "#### 2. 배깅(Bagging)\n",
    "- 'Bootstrap Aggregating'의 줄임말\n",
    "- 원본 데이터셋으로부터 랜덤하게 샘플을 여러 번 추출하여(Bootstrap), 각 샘플로 모델을 개별적으로 학습시킨 후, 이들의 결과를 취합(Aggregating)하는 기법\n",
    "- 대표적인 알고리즘으로는 **랜덤 포레스트(Random Forest)**\n",
    "\n",
    "#### 3. 부스팅(Boosting)\n",
    "- 여러 개의 약한 모델(Weak Learners)을 순차적으로 학습시켜, 이전 모델의 오류를 개선하는 방식\n",
    "- 약한 모델들을 점진적으로 강화하여 하나의 강력한 모델로 만들어 나감 (AdaBoost, Gradient Boosting, XGBoost, LightGBM 등)\n"
   ]
  },
  {
   "cell_type": "markdown",
   "id": "1c70b5ef-662b-40e9-8b15-9b1fae126657",
   "metadata": {},
   "source": [
    "![numpy array 01](./figures/rf_01.png)"
   ]
  },
  {
   "cell_type": "markdown",
   "id": "8095e912-c91b-4dee-8dc0-094b46c6a4b3",
   "metadata": {},
   "source": [
    "**랜덤포레스트는 변수를 랜덤하게 선택하는 과정에서 개별 나무들의 상관성을 줄여 예측력을 향상시킴!**"
   ]
  },
  {
   "cell_type": "markdown",
   "id": "d207a4e2-ed69-467c-b04f-ca7899e16b95",
   "metadata": {},
   "source": [
    "### 배깅 (Bagging)"
   ]
  },
  {
   "cell_type": "markdown",
   "id": "9d25921b-54e9-4efb-b366-4c3e5e8b4a6b",
   "metadata": {},
   "source": [
    "![numpy array 01](./figures/rf_02.png)"
   ]
  },
  {
   "cell_type": "markdown",
   "id": "ef9410a5-6c86-4b9b-a109-b0dfad95f243",
   "metadata": {},
   "source": [
    "- bagging은 트리를 만들 때 training set의 부분 집합을 활용하여 형성\n",
    "- training set에 100개의 데이터가 존재한다면, 각 트리를 생성할 때 10개의 데이터만 임의로 선택하여 트리를 만드는데 활용\n",
    "- 이렇게 데이터를 임의로 선택할 때  중복을 허용함으로써 100개의 데이터 중에서 10개만 뽑기보다는 10개씩 매번 뽑아도 독특한 데이터셋을 형성할 수 있게되고, 이에 따라 다양한 트리가 생성될 수 있게 됨\n",
    "- 이렇게 생성된 데이터들은 각 결정트리로 들어가며 결정 트리 분류 과정은 11장과 동일함\n",
    "\n",
    "<br> \n",
    "\n",
    "- 랜덤 포레스트는 트리를 형성할 때 데이터 셋에만 변화를 주는 것이 아닌 feature를 선택하는데도 변화를 줌\n",
    "- feature를 선택할 때도 기존에 존재하는 feature의 부분집합을 활용. "
   ]
  },
  {
   "cell_type": "markdown",
   "id": "d31510e9-fedf-4ac1-a79d-f02518279971",
   "metadata": {},
   "source": [
    "### 랜덤 포레스트 작동 원리\n",
    "\n",
    "1) 부트스트랩 샘플링(Bootstrap Sampling): 원본 데이터셋에서 랜덤하게 샘플을 여러 번 추출(이 때, 샘플은 중복 추출이 가능함)\n",
    "2) 특성 무작위 선택: 각 의사결정나무를 학습시킬 때, 모든 특성을 사용하는 것이 아니라 일부 특성만 무작위로 선택하여 학습 -> 의사결정나무들 사이의 상관관계를 줄이고, 다양성을 증가. (이 때, 특성은 전체 특성의 제곱근의 수 만큼 부트스트랩 샘플링하여 선택함)\n",
    "3) 나무 생성: 각각의 부트스트랩 샘플과 무작위로 선택된 특성을 사용하여 의사결정나무를 학습시킴\n",
    "4) 결과 취합: 모든 의사결정나무의 예측을 취합하여, 가장 많이 등장하는 클래스(분류) 또는 평균(회귀)을 최종 예측 결과로 사용\n"
   ]
  },
  {
   "cell_type": "markdown",
   "id": "57a56327-7951-4794-946d-c96529d904f8",
   "metadata": {},
   "source": [
    "---\n",
    "## 실습 : 키와 몸무게로 분류"
   ]
  },
  {
   "cell_type": "code",
   "execution_count": null,
   "id": "1ac43617-5b1e-4973-a936-d16c775630b9",
   "metadata": {},
   "outputs": [],
   "source": [
    "import numpy as np\n",
    "import matplotlib.pyplot as plt\n",
    "from sklearn.ensemble import RandomForestClassifier\n",
    "from sklearn.tree import plot_tree\n",
    "from sklearn.model_selection import train_test_split\n",
    "from sklearn.metrics import classification_report, accuracy_score\n",
    "\n"
   ]
  },
  {
   "cell_type": "code",
   "execution_count": null,
   "id": "e075c163-be9f-4ccb-bb32-9f7bb780e431",
   "metadata": {},
   "outputs": [],
   "source": [
    "# Height, Weight\n",
    "X_train = np.array([[150,50], [161.1, 55], [168,70], [172,73], [193,91], [185,74]])\n",
    "y_train = np.array([0,0,1,1,2,2])"
   ]
  },
  {
   "cell_type": "code",
   "execution_count": null,
   "id": "f1848135-9605-42a0-91bb-bcaab0601c9e",
   "metadata": {},
   "outputs": [],
   "source": [
    "X_train.shape"
   ]
  },
  {
   "cell_type": "code",
   "execution_count": null,
   "id": "95a3b0b2-d031-4dad-98f4-fe0051d5c84d",
   "metadata": {},
   "outputs": [],
   "source": [
    "y_train.shape"
   ]
  },
  {
   "cell_type": "code",
   "execution_count": null,
   "id": "bc012b25-d727-4f93-872d-65b0f384875c",
   "metadata": {},
   "outputs": [],
   "source": [
    "clf = RandomForestClassifier(n_estimators=10,max_depth=2)"
   ]
  },
  {
   "cell_type": "code",
   "execution_count": null,
   "id": "875f2bf4-3398-412f-80e8-94528a4d14e6",
   "metadata": {},
   "outputs": [],
   "source": [
    "clf.fit(X_train, y_train)"
   ]
  },
  {
   "cell_type": "code",
   "execution_count": null,
   "id": "6d99e9df-106c-4ece-bd9e-8b238e095660",
   "metadata": {},
   "outputs": [],
   "source": [
    "print(clf.predict([[170,60]]))"
   ]
  },
  {
   "cell_type": "code",
   "execution_count": null,
   "id": "29ba0114-75f5-46e0-bbc8-48d2e7269fdf",
   "metadata": {},
   "outputs": [],
   "source": [
    "clf = clf.estimators_[0]"
   ]
  },
  {
   "cell_type": "code",
   "execution_count": null,
   "id": "3f8eab5c-a83a-461b-bc2f-f3ca2f6e1727",
   "metadata": {},
   "outputs": [],
   "source": [
    "plt.figure(figsize=(10,8))\n",
    "plot_tree(clf, filled=True, feature_names=['Height','Weight'], class_names=['class 0','class 1','class 2'])\n",
    "plt.show()"
   ]
  },
  {
   "cell_type": "markdown",
   "id": "eb0b5939-d222-4c03-a0d9-0585bb06b42b",
   "metadata": {},
   "source": [
    "> refer\n",
    "- https://mozenworld.tistory.com/entry/%EB%A8%B8%EC%8B%A0%EB%9F%AC%EB%8B%9D-%EB%AA%A8%EB%8D%B8-%EC%86%8C%EA%B0%9C-4-%EB%9E%9C%EB%8D%A4-%ED%8F%AC%EB%A0%88%EC%8A%A4%ED%8A%B8-Random-Forest\n",
    "- https://gsbang.tistory.com/entry/%EA%B8%B0%EA%B3%84%ED%95%99%EC%8A%B5-%EC%95%99%EC%83%81%EB%B8%94-%ED%95%99%EC%8A%B5-%EB%9E%9C%EB%8D%A4%ED%8F%AC%EB%A0%88%EC%8A%A4%ED%8A%B8Random-Forest\n",
    "- https://ga02-ailab.tistory.com/36\n",
    "-  https://blog-ko.superb-ai.com/3-minute-algorithm-random-forest/"
   ]
  },
  {
   "cell_type": "code",
   "execution_count": null,
   "id": "55014be3-9e29-4336-9ae9-c3f2e6ec26e9",
   "metadata": {},
   "outputs": [],
   "source": []
  }
 ],
 "metadata": {
  "kernelspec": {
   "display_name": "Python 3 (ipykernel)",
   "language": "python",
   "name": "python3"
  },
  "language_info": {
   "codemirror_mode": {
    "name": "ipython",
    "version": 3
   },
   "file_extension": ".py",
   "mimetype": "text/x-python",
   "name": "python",
   "nbconvert_exporter": "python",
   "pygments_lexer": "ipython3",
   "version": "3.9.7"
  }
 },
 "nbformat": 4,
 "nbformat_minor": 5
}
